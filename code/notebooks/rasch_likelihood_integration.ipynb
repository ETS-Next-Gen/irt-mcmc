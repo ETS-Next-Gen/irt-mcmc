{
 "cells": [
  {
   "cell_type": "code",
   "execution_count": 2,
   "metadata": {},
   "outputs": [],
   "source": [
    "# Simulate MCMC model data: pick the true parameter variables from the model's prior distribution.\n",
    "import numpy as np\n",
    "import matplotlib.pyplot as plt\n",
    "import numpy.polynomial.hermite as hermite"
   ]
  },
  {
   "cell_type": "code",
   "execution_count": 3,
   "metadata": {},
   "outputs": [
    {
     "data": {
      "text/plain": [
       "[<matplotlib.lines.Line2D at 0x10fa82f50>]"
      ]
     },
     "execution_count": 3,
     "metadata": {},
     "output_type": "execute_result"
    },
    {
     "data": {
      "image/png": "[encoded data removed]",
      "text/plain": [
       "<Figure size 432x288 with 1 Axes>"
      ]
     },
     "metadata": {
      "needs_background": "light"
     },
     "output_type": "display_data"
    }
   ],
   "source": [
    "likelihood = lambda t, n, k: np.exp(k*t) / (1 + np.exp(t))**n\n",
    "\n",
    "t = np.linspace(-5, 5, 100)\n",
    "plt.plot(t, likelihood(t, 10, 4), 'b')\n",
    "plt.plot(t, likelihood(t, 10, 6), 'r')"
   ]
  },
  {
   "cell_type": "code",
   "execution_count": 9,
   "metadata": {},
   "outputs": [
    {
     "data": {
      "text/plain": [
       "(array([-6.86334529, -6.13827922, -5.53314715, -4.98891897, -4.48305536,\n",
       "        -4.0039086 , -3.54444387, -3.09997053, -2.66713212, -2.24339147,\n",
       "        -1.82674114, -1.4155278 , -1.00833827, -0.60392106, -0.20112858,\n",
       "         0.20112858,  0.60392106,  1.00833827,  1.4155278 ,  1.82674114,\n",
       "         2.24339147,  2.66713212,  3.09997053,  3.54444387,  4.0039086 ,\n",
       "         4.48305536,  4.98891897,  5.53314715,  6.13827922,  6.86334529]),\n",
       " array([2.90825470e-21, 2.81033360e-17, 2.87860708e-14, 8.10618630e-12,\n",
       "        9.17858042e-10, 5.10852245e-08, 1.57909489e-06, 2.93872523e-05,\n",
       "        3.48310124e-04, 2.73792247e-03, 1.47038297e-02, 5.51441769e-02,\n",
       "        1.46735848e-01, 2.80130931e-01, 3.86394890e-01, 3.86394890e-01,\n",
       "        2.80130931e-01, 1.46735848e-01, 5.51441769e-02, 1.47038297e-02,\n",
       "        2.73792247e-03, 3.48310124e-04, 2.93872523e-05, 1.57909489e-06,\n",
       "        5.10852245e-08, 9.17858042e-10, 8.10618630e-12, 2.87860708e-14,\n",
       "        2.81033360e-17, 2.90825470e-21]))"
      ]
     },
     "execution_count": 9,
     "metadata": {},
     "output_type": "execute_result"
    }
   ],
   "source": [
    "hermite.hermgauss(30)"
   ]
  },
  {
   "cell_type": "code",
   "execution_count": 6,
   "metadata": {},
   "outputs": [],
   "source": [
    "p = np.loadtxt('/Users/olivne/irt/code/integration/prob_t2_gt_g1.out')"
   ]
  },
  {
   "cell_type": "code",
   "execution_count": 8,
   "metadata": {},
   "outputs": [
    {
     "data": {
      "text/plain": [
       "array([[0.14083, 0.12095, 0.09277, 0.06394, 0.03973, 0.02229, 0.01127,\n",
       "        0.00511, 0.00207, 0.00073],\n",
       "       [0.14083, 0.13745, 0.11942, 0.093  , 0.06517, 0.04113, 0.02336,\n",
       "        0.01189, 0.00538, 0.00216],\n",
       "       [0.12433, 0.13745, 0.13492, 0.11843, 0.09336, 0.06621, 0.0422 ,\n",
       "        0.02407, 0.01223, 0.00547],\n",
       "       [0.09768, 0.12195, 0.13492, 0.13323, 0.118  , 0.09389, 0.06709,\n",
       "        0.04291, 0.02441, 0.01225],\n",
       "       [0.06862, 0.09652, 0.12011, 0.13324, 0.1324 , 0.11812, 0.0946 ,\n",
       "        0.0678 , 0.04325, 0.02434],\n",
       "       [0.04318, 0.06833, 0.09548, 0.11883, 0.1324 , 0.1324 , 0.11883,\n",
       "        0.09548, 0.06833, 0.04318],\n",
       "       [0.02434, 0.04325, 0.0678 , 0.0946 , 0.11812, 0.1324 , 0.13324,\n",
       "        0.12011, 0.09652, 0.06862],\n",
       "       [0.01225, 0.02441, 0.04291, 0.06709, 0.09389, 0.118  , 0.13323,\n",
       "        0.13492, 0.12195, 0.09768],\n",
       "       [0.00547, 0.01223, 0.02407, 0.0422 , 0.06621, 0.09336, 0.11843,\n",
       "        0.13492, 0.13745, 0.12433],\n",
       "       [0.00216, 0.00538, 0.01189, 0.02336, 0.04113, 0.06517, 0.093  ,\n",
       "        0.11942, 0.13745, 0.14083],\n",
       "       [0.00073, 0.00207, 0.00511, 0.01127, 0.02229, 0.03973, 0.06394,\n",
       "        0.09277, 0.12095, 0.14083]])"
      ]
     },
     "execution_count": 8,
     "metadata": {},
     "output_type": "execute_result"
    }
   ],
   "source": [
    "np.diff(p, axis=1)"
   ]
  },
  {
   "cell_type": "code",
   "execution_count": null,
   "metadata": {},
   "outputs": [],
   "source": []
  }
 ],
 "metadata": {
  "kernelspec": {
   "display_name": "Python 3",
   "language": "python",
   "name": "python3"
  },
  "language_info": {
   "codemirror_mode": {
    "name": "ipython",
    "version": 3
   },
   "file_extension": ".py",
   "mimetype": "text/x-python",
   "name": "python",
   "nbconvert_exporter": "python",
   "pygments_lexer": "ipython3",
   "version": "3.7.5"
  }
 },
 "nbformat": 4,
 "nbformat_minor": 2
}
