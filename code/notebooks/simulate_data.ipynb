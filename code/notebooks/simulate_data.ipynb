{
 "cells": [
  {
   "cell_type": "code",
   "execution_count": 112,
   "metadata": {},
   "outputs": [],
   "source": [
    "# Simulate MCMC model data: pick the true parameter variables from the model's prior distribution.\n",
    "import numpy as np\n",
    "import numpy.matlib\n",
    "import matplotlib.pyplot as plt\n",
    "from scipy.stats import invgamma\n",
    "from numpy.linalg import norm"
   ]
  },
  {
   "cell_type": "code",
   "execution_count": 158,
   "metadata": {},
   "outputs": [],
   "source": [
    "# Number of persons.\n",
    "P = 100\n",
    "# Number of items.\n",
    "I = 10\n",
    "# Number of latent ability dimensions (sub-scales).\n",
    "C = 5"
   ]
  },
  {
   "cell_type": "code",
   "execution_count": 159,
   "metadata": {},
   "outputs": [
    {
     "name": "stdout",
     "output_type": "stream",
     "text": [
      "[ 0.66374164  4.90478021 28.2143475   3.72237548  1.24491698]\n"
     ]
    }
   ],
   "source": [
    "# Generate latent ability distribution variances.\n",
    "alpha_theta, beta_theta = 1, 1\n",
    "rv = invgamma(a=alpha_theta, scale=beta_theta)\n",
    "v = rv.rvs(C)\n",
    "print(v)"
   ]
  },
  {
   "cell_type": "code",
   "execution_count": 160,
   "metadata": {},
   "outputs": [
    {
     "name": "stdout",
     "output_type": "stream",
     "text": [
      "(100, 5)\n"
     ]
    },
    {
     "data": {
      "image/png": "[encoded data removed]",
      "text/plain": [
       "<Figure size 432x288 with 1 Axes>"
      ]
     },
     "metadata": {
      "needs_background": "light"
     },
     "output_type": "display_data"
    }
   ],
   "source": [
    "# Generate normally distributed student latent abilities.\n",
    "cov = np.diag(v)\n",
    "theta = np.random.multivariate_normal(np.zeros((C,)), cov, P)\n",
    "print(theta.shape)\n",
    "plt.plot(theta[:,0], theta[:,1], '.')\n",
    "plt.axis('equal')\n",
    "plt.show()"
   ]
  },
  {
   "cell_type": "code",
   "execution_count": 175,
   "metadata": {},
   "outputs": [
    {
     "name": "stdout",
     "output_type": "stream",
     "text": [
      "[0.55751878 0.9647691  1.19612653 0.57174155 1.29186741 0.70285498\n",
      " 0.92424375 0.90557967 0.88273807 1.25009451]\n",
      "[-3.         -2.33333333 -1.66666667 -1.         -0.33333333  0.33333333\n",
      "  1.          1.66666667  2.33333333  3.        ]\n",
      "[3 0 4 0 2 1 1 3 4 2]\n"
     ]
    }
   ],
   "source": [
    "# Generate item difficulty parameters.\n",
    "# Discrimination is uniform[0.5, 1.5].\n",
    "a = np.random.random(size=(I,)) + 0.5\n",
    "# Difficulty is equally spaced from -3 to 3.\n",
    "b = np.linspace(-3, 3, num=I)\n",
    "# Item i measures sub-scale c[i]. Select about the same number of items per subscale,\n",
    "# then randomly permute the item order.\n",
    "c = np.random.permutation(np.matlib.repmat(np.arange(C, dtype=int), int(np.ceil(I/C)), 1).ravel()[:I])\n",
    "# Asymptote pi is fixed.\n",
    "asym = 0.2\n",
    "print(a)\n",
    "print(b)\n",
    "print(c)"
   ]
  },
  {
   "cell_type": "code",
   "execution_count": 176,
   "metadata": {},
   "outputs": [],
   "source": [
    "# Generate item responses (the observed data).\n",
    "t = np.exp(-a*(theta[:,c] - b))\n",
    "p_correct = asym + (1-asym)*(t/(1+t))\n",
    "X = np.random.binomial(1, p=p_correct)"
   ]
  },
  {
   "cell_type": "code",
   "execution_count": 183,
   "metadata": {},
   "outputs": [],
   "source": [
    "# Initial guess for theta_p^c: fraction of correct responses of person p to items measuring\n",
    "# sub-scale c.\n",
    "theta_init = np.array([np.mean(X[:, np.where(c == d)[0]], axis=1) for d in range(C)])"
   ]
  },
  {
   "cell_type": "code",
   "execution_count": 174,
   "metadata": {},
   "outputs": [
    {
     "data": {
      "text/plain": [
       "2"
      ]
     },
     "execution_count": 174,
     "metadata": {},
     "output_type": "execute_result"
    }
   ],
   "source": [
    "int(np.ceil(I/C))"
   ]
  },
  {
   "cell_type": "code",
   "execution_count": null,
   "metadata": {},
   "outputs": [],
   "source": []
  }
 ],
 "metadata": {
  "kernelspec": {
   "display_name": "Python 3",
   "language": "python",
   "name": "python3"
  },
  "language_info": {
   "codemirror_mode": {
    "name": "ipython",
    "version": 3
   },
   "file_extension": ".py",
   "mimetype": "text/x-python",
   "name": "python",
   "nbconvert_exporter": "python",
   "pygments_lexer": "ipython3",
   "version": "3.7.5"
  }
 },
 "nbformat": 4,
 "nbformat_minor": 2
}
