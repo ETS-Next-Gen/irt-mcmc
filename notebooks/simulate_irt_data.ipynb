{
 "cells": [
  {
   "cell_type": "markdown",
   "metadata": {},
   "source": [
    "# Simulated IRT Data Generation\n",
    "To test our non-parametric IRT model, we generate items with a parameteric form and sample student abilities from the standard prior distributions assumed in IRT literature, because these at least have some history/credibility as model data."
   ]
  },
  {
   "cell_type": "code",
   "execution_count": 16,
   "metadata": {},
   "outputs": [
    {
     "name": "stdout",
     "output_type": "stream",
     "text": [
      "The autoreload extension is already loaded. To reload it, use:\n",
      "  %reload_ext autoreload\n"
     ]
    }
   ],
   "source": [
    "# Simulate MCMC model data: pick the true parameter variables from the model's prior distribution.\n",
    "import cluster.cntree.cntree\n",
    "import logging\n",
    "import numpy as np\n",
    "import numpy.matlib\n",
    "import matplotlib.pyplot as plt\n",
    "import sklearn.cluster\n",
    "from kmodes.kmodes import KModes\n",
    "from numpy.linalg import norm, svd\n",
    "from scipy.stats import invgamma\n",
    "\n",
    "%load_ext autoreload\n",
    "%autoreload 2\n",
    "\n",
    "level = logging.DEBUG\n",
    "for handler in logging.root.handlers[:]: logging.root.removeHandler(handler)\n",
    "logging.basicConfig(level=level, format=\"%(levelname)-8s %(message)s\", datefmt=\"%a, %d %b %Y %H:%M:%S\")"
   ]
  },
  {
   "cell_type": "code",
   "execution_count": 17,
   "metadata": {},
   "outputs": [],
   "source": [
    "# Number of persons.\n",
    "P = 1000\n",
    "# Number of items.\n",
    "I = 40\n",
    "# Number of latent ability dimensions (sub-scales).\n",
    "C = 5\n",
    "# Fixed item asymptote (pi) as theta -> -\\infty = probability of guessing.\n",
    "asym = 0.25"
   ]
  },
  {
   "cell_type": "code",
   "execution_count": 18,
   "metadata": {},
   "outputs": [
    {
     "name": "stdout",
     "output_type": "stream",
     "text": [
      "[0.71816873 1.70992459 0.22041305 1.52790214 1.04790698]\n"
     ]
    }
   ],
   "source": [
    "# Generate latent ability distribution variances.\n",
    "alpha_theta, beta_theta = 1, 1\n",
    "rv = invgamma(a=alpha_theta, scale=beta_theta)\n",
    "v = rv.rvs(C)\n",
    "print(v)"
   ]
  },
  {
   "cell_type": "code",
   "execution_count": 19,
   "metadata": {},
   "outputs": [
    {
     "name": "stdout",
     "output_type": "stream",
     "text": [
      "(1000, 5)\n"
     ]
    },
    {
     "data": {
      "image/png": "[encoded data removed]",
      "text/plain": [
       "<Figure size 432x288 with 1 Axes>"
      ]
     },
     "metadata": {
      "needs_background": "light"
     },
     "output_type": "display_data"
    }
   ],
   "source": [
    "# Generate normally distributed student latent abilities. theta_c ~ N(0, invgamma(a_c,b_c))\n",
    "cov = np.diag(v)\n",
    "theta = np.random.multivariate_normal(np.zeros((C,)), cov, P)\n",
    "print(theta.shape)\n",
    "plt.plot(theta[:,0], theta[:,1], '.')\n",
    "plt.xlabel(r'$\\theta_0$')\n",
    "plt.ylabel(r'$\\theta_1$')\n",
    "plt.axis('equal')\n",
    "plt.show()"
   ]
  },
  {
   "cell_type": "code",
   "execution_count": 20,
   "metadata": {},
   "outputs": [
    {
     "name": "stdout",
     "output_type": "stream",
     "text": [
      "[1.38705329 1.22033123 0.93560942 1.47021889 0.61805918 1.04135676\n",
      " 0.58262913 1.03112438 0.51404238 0.80071313 0.96903444 1.08163228\n",
      " 0.60124619 0.60798828 0.84949385 1.25465113 1.00287414 1.24783437\n",
      " 1.0422811  1.44224903 0.61949403 0.52396593 1.07273797 0.71210571\n",
      " 0.59411429 1.3587734  1.36645698 0.76981035 1.49550669 1.12317936\n",
      " 1.31097899 1.24698189 0.73278117 1.17645965 1.47635883 0.5756575\n",
      " 1.34816058 0.6679953  0.55500298 1.35676884]\n",
      "[-3.         -2.84615385 -2.69230769 -2.53846154 -2.38461538 -2.23076923\n",
      " -2.07692308 -1.92307692 -1.76923077 -1.61538462 -1.46153846 -1.30769231\n",
      " -1.15384615 -1.         -0.84615385 -0.69230769 -0.53846154 -0.38461538\n",
      " -0.23076923 -0.07692308  0.07692308  0.23076923  0.38461538  0.53846154\n",
      "  0.69230769  0.84615385  1.          1.15384615  1.30769231  1.46153846\n",
      "  1.61538462  1.76923077  1.92307692  2.07692308  2.23076923  2.38461538\n",
      "  2.53846154  2.69230769  2.84615385  3.        ]\n",
      "[4 1 2 2 2 1 0 1 2 4 0 0 0 3 3 3 4 0 4 0 2 2 3 2 1 4 3 3 0 1 1 3 2 1 4 0 3\n",
      " 4 1 4]\n"
     ]
    }
   ],
   "source": [
    "# Generate item difficulty parameters.\n",
    "# Discrimination is uniform[0.5, 1.5].\n",
    "a = np.random.random(size=(I,)) + 0.5\n",
    "# Difficulty is equally spaced from -3 to 3.\n",
    "b = np.linspace(-3, 3, num=I)\n",
    "# Item i measures sub-scale c[i]. Select about the same number of items per subscale,\n",
    "# then randomly permute the item order.\n",
    "c = np.random.permutation(np.matlib.repmat(np.arange(C, dtype=int), int(np.ceil(I/C)), 1).ravel()[:I])\n",
    "print(a)\n",
    "print(b)\n",
    "print(c)"
   ]
  },
  {
   "cell_type": "code",
   "execution_count": 21,
   "metadata": {},
   "outputs": [],
   "source": [
    "# Generate item responses (the observed data).\n",
    "t = np.exp(-a*(theta[:,c] - b))\n",
    "p_correct = asym + (1-asym)*(t/(1+t))\n",
    "X = np.random.binomial(1, p=p_correct)"
   ]
  },
  {
   "cell_type": "markdown",
   "metadata": {},
   "source": [
    "## Hierarchical Person Clustering"
   ]
  },
  {
   "cell_type": "code",
   "execution_count": 29,
   "metadata": {},
   "outputs": [
    {
     "name": "stderr",
     "output_type": "stream",
     "text": [
      "INFO     \tcenter (1, 40)\n",
      "INFO     \tCreated level index 0 size 1 center (1, 40)\n",
      "DEBUG    root Level 0[size=1,num_neighbors=1]\n",
      "INFO     Level\tNbhrs\tSize\tcr\tmean_sz\tstd_sz\tTime\n",
      "DEBUG    parent.cluster_size [1000]\n",
      "DEBUG    parent.radius [2.76880624]\n",
      "DEBUG    large_large [0]\n",
      "DEBUG    large_compact []\n",
      "DEBUG    small []\n",
      "INFO     \tcenter (10, 40)\n",
      "INFO     \tCreated level index 1 size 10 center (10, 40)\n",
      "DEBUG    Initialized Level 1[size=10,num_neighbors=7]\n",
      "DEBUG    Global iteration 0\n",
      "DEBUG    \tBuild cluster neighborhoods\n"
     ]
    },
    {
     "name": "stdout",
     "output_type": "stream",
     "text": [
      "(1000, 40)\n",
      "size 1\n",
      "branch_factor 10\n",
      "refinement_group [(array([0]), 10), (array([], dtype=int64), 2), (array([], dtype=int64), 1)] child size 10\n",
      "parent of (10,)\n",
      "size 10\n",
      "_build_cluster_nbhrs Level 1[size=2,num_neighbors=7] (2, 40)\n"
     ]
    },
    {
     "ename": "IndexError",
     "evalue": "index 2 is out of bounds for axis 0 with size 2",
     "output_type": "error",
     "traceback": [
      "\u001b[0;31m---------------------------------------------------------------------------\u001b[0m",
      "\u001b[0;31mIndexError\u001b[0m                                Traceback (most recent call last)",
      "\u001b[0;32m<ipython-input-29-e7ce18c8fe25>\u001b[0m in \u001b[0;36m<module>\u001b[0;34m\u001b[0m\n\u001b[1;32m      4\u001b[0m     \u001b[0mmax_cluster_radius\u001b[0m\u001b[0;34m=\u001b[0m\u001b[0;36m0\u001b[0m\u001b[0;34m,\u001b[0m \u001b[0mmax_cluster_size\u001b[0m\u001b[0;34m=\u001b[0m\u001b[0;36m2\u001b[0m\u001b[0;34m,\u001b[0m \u001b[0mdebug\u001b[0m\u001b[0;34m=\u001b[0m\u001b[0;36m1\u001b[0m\u001b[0;34m,\u001b[0m\u001b[0;34m\u001b[0m\u001b[0;34m\u001b[0m\u001b[0m\n\u001b[1;32m      5\u001b[0m     initial_branch_factor=2*C, initial_num_local_iters=0)\n\u001b[0;32m----> 6\u001b[0;31m \u001b[0mclustering\u001b[0m \u001b[0;34m=\u001b[0m \u001b[0mtree\u001b[0m\u001b[0;34m.\u001b[0m\u001b[0mcluster\u001b[0m\u001b[0;34m(\u001b[0m\u001b[0mx\u001b[0m\u001b[0;34m)\u001b[0m\u001b[0;34m\u001b[0m\u001b[0;34m\u001b[0m\u001b[0m\n\u001b[0m",
      "\u001b[0;32m~/multilevel/cluster/cntree/cntree.py\u001b[0m in \u001b[0;36mcluster\u001b[0;34m(self, point, num_neighbors)\u001b[0m\n\u001b[1;32m    278\u001b[0m         \u001b[0;32mwhile\u001b[0m \u001b[0mself\u001b[0m\u001b[0;34m.\u001b[0m\u001b[0m_requires_refinement\u001b[0m\u001b[0;34m(\u001b[0m\u001b[0mlevel\u001b[0m\u001b[0;34m)\u001b[0m\u001b[0;34m:\u001b[0m\u001b[0;34m\u001b[0m\u001b[0;34m\u001b[0m\u001b[0m\n\u001b[1;32m    279\u001b[0m             \u001b[0mstart_time_all\u001b[0m \u001b[0;34m=\u001b[0m \u001b[0mtimeit\u001b[0m\u001b[0;34m.\u001b[0m\u001b[0mdefault_timer\u001b[0m\u001b[0;34m(\u001b[0m\u001b[0;34m)\u001b[0m\u001b[0;34m\u001b[0m\u001b[0;34m\u001b[0m\u001b[0m\n\u001b[0;32m--> 280\u001b[0;31m             \u001b[0mlevel\u001b[0m\u001b[0;34m,\u001b[0m \u001b[0mlevel_times\u001b[0m \u001b[0;34m=\u001b[0m \u001b[0mself\u001b[0m\u001b[0;34m.\u001b[0m\u001b[0m_refine\u001b[0m\u001b[0;34m(\u001b[0m\u001b[0mlevel\u001b[0m\u001b[0;34m,\u001b[0m \u001b[0mpoint\u001b[0m\u001b[0;34m,\u001b[0m \u001b[0mnum_neighbors\u001b[0m\u001b[0;34m)\u001b[0m\u001b[0;34m\u001b[0m\u001b[0;34m\u001b[0m\u001b[0m\n\u001b[0m\u001b[1;32m    281\u001b[0m             \u001b[0;32mif\u001b[0m \u001b[0mself\u001b[0m\u001b[0;34m.\u001b[0m\u001b[0m_clean_memory\u001b[0m\u001b[0;34m:\u001b[0m\u001b[0;34m\u001b[0m\u001b[0;34m\u001b[0m\u001b[0m\n\u001b[1;32m    282\u001b[0m                 \u001b[0;31m# Clean unused memory: when we finish building a child we no longer needs its parent.\u001b[0m\u001b[0;34m\u001b[0m\u001b[0;34m\u001b[0m\u001b[0;34m\u001b[0m\u001b[0m\n",
      "\u001b[0;32m~/multilevel/cluster/cntree/cntree.py\u001b[0m in \u001b[0;36m_refine\u001b[0;34m(self, level, point, num_neighbors)\u001b[0m\n\u001b[1;32m    365\u001b[0m             \u001b[0m_LOGGER\u001b[0m\u001b[0;34m.\u001b[0m\u001b[0mdebug\u001b[0m\u001b[0;34m(\u001b[0m\u001b[0;34m\"\\tBuild cluster neighborhoods\"\u001b[0m\u001b[0;34m)\u001b[0m\u001b[0;34m\u001b[0m\u001b[0;34m\u001b[0m\u001b[0m\n\u001b[1;32m    366\u001b[0m             \u001b[0mstart_time\u001b[0m \u001b[0;34m=\u001b[0m \u001b[0mtimeit\u001b[0m\u001b[0;34m.\u001b[0m\u001b[0mdefault_timer\u001b[0m\u001b[0;34m(\u001b[0m\u001b[0;34m)\u001b[0m\u001b[0;34m\u001b[0m\u001b[0;34m\u001b[0m\u001b[0m\n\u001b[0;32m--> 367\u001b[0;31m             \u001b[0mchild\u001b[0m\u001b[0;34m.\u001b[0m\u001b[0m_build_cluster_nbhrs\u001b[0m\u001b[0;34m(\u001b[0m\u001b[0;34m)\u001b[0m\u001b[0;34m\u001b[0m\u001b[0;34m\u001b[0m\u001b[0m\n\u001b[0m\u001b[1;32m    368\u001b[0m             \u001b[0mtimes\u001b[0m\u001b[0;34m[\u001b[0m\u001b[0;34m\"C-nbhd\"\u001b[0m\u001b[0;34m]\u001b[0m \u001b[0;34m+=\u001b[0m \u001b[0mtimeit\u001b[0m\u001b[0;34m.\u001b[0m\u001b[0mdefault_timer\u001b[0m\u001b[0;34m(\u001b[0m\u001b[0;34m)\u001b[0m \u001b[0;34m-\u001b[0m \u001b[0mstart_time\u001b[0m\u001b[0;34m\u001b[0m\u001b[0;34m\u001b[0m\u001b[0m\n\u001b[1;32m    369\u001b[0m \u001b[0;34m\u001b[0m\u001b[0m\n",
      "\u001b[0;32m~/multilevel/cluster/cntree/cntree.py\u001b[0m in \u001b[0;36m_build_cluster_nbhrs\u001b[0;34m(self)\u001b[0m\n\u001b[1;32m    614\u001b[0m             \u001b[0msibs\u001b[0m \u001b[0;34m=\u001b[0m \u001b[0mparent\u001b[0m\u001b[0;34m.\u001b[0m\u001b[0m_children_of\u001b[0m\u001b[0;34m[\u001b[0m\u001b[0mc\u001b[0m\u001b[0;34m,\u001b[0m \u001b[0;34m:\u001b[0m\u001b[0mparent\u001b[0m\u001b[0;34m.\u001b[0m\u001b[0m_num_children\u001b[0m\u001b[0;34m[\u001b[0m\u001b[0mc\u001b[0m\u001b[0;34m]\u001b[0m\u001b[0;34m]\u001b[0m\u001b[0;34m\u001b[0m\u001b[0;34m\u001b[0m\u001b[0m\n\u001b[1;32m    615\u001b[0m             \u001b[0;31m# start_time = timeit.default_timer()\u001b[0m\u001b[0;34m\u001b[0m\u001b[0;34m\u001b[0m\u001b[0;34m\u001b[0m\u001b[0m\n\u001b[0;32m--> 616\u001b[0;31m             \u001b[0mnbhrs\u001b[0m \u001b[0;34m=\u001b[0m \u001b[0mself\u001b[0m\u001b[0;34m.\u001b[0m\u001b[0m_cluster_nbhrs_of\u001b[0m\u001b[0;34m(\u001b[0m\u001b[0mc\u001b[0m\u001b[0;34m,\u001b[0m \u001b[0mself\u001b[0m\u001b[0;34m.\u001b[0m\u001b[0mcenter\u001b[0m\u001b[0;34m[\u001b[0m\u001b[0msibs\u001b[0m\u001b[0;34m]\u001b[0m\u001b[0;34m,\u001b[0m \u001b[0mparent\u001b[0m\u001b[0;34m.\u001b[0m\u001b[0m_sibs_and_cousins\u001b[0m\u001b[0;34m,\u001b[0m \u001b[0mparent\u001b[0m\u001b[0;34m.\u001b[0m\u001b[0m_num_sibs_and_cousins\u001b[0m\u001b[0;34m)\u001b[0m\u001b[0;34m\u001b[0m\u001b[0;34m\u001b[0m\u001b[0m\n\u001b[0m\u001b[1;32m    617\u001b[0m             \u001b[0;31m# sz += len(sibs)\u001b[0m\u001b[0;34m\u001b[0m\u001b[0;34m\u001b[0m\u001b[0;34m\u001b[0m\u001b[0m\n\u001b[1;32m    618\u001b[0m             \u001b[0;31m# t += (timeit.default_timer() - start_time)\u001b[0m\u001b[0;34m\u001b[0m\u001b[0;34m\u001b[0m\u001b[0;34m\u001b[0m\u001b[0m\n",
      "\u001b[0;31mIndexError\u001b[0m: index 2 is out of bounds for axis 0 with size 2"
     ]
    }
   ],
   "source": [
    "x = X.astype(float)\n",
    "print(x.shape)\n",
    "tree = cluster.cntree.cntree.CNTree(\n",
    "    max_cluster_radius=0, max_cluster_size=2, debug=1,\n",
    "    initial_branch_factor=2*C, initial_num_local_iters=0)\n",
    "clustering = tree.cluster(x)"
   ]
  },
  {
   "cell_type": "code",
   "execution_count": null,
   "metadata": {},
   "outputs": [],
   "source": []
  },
  {
   "cell_type": "markdown",
   "metadata": {},
   "source": [
    " ## Item Clustering into Classes"
   ]
  },
  {
   "cell_type": "code",
   "execution_count": null,
   "metadata": {},
   "outputs": [],
   "source": [
    "kmeans = sklearn.cluster.KMeans(n_clusters=C, random_state=0).fit(X.transpose())\n",
    "print(kmeans.labels_)\n",
    "#print(kmeans.cluster_centers_)\n",
    "#print(kmeans.n_iter_)\n",
    "#print(kmeans.inertia_)"
   ]
  },
  {
   "cell_type": "code",
   "execution_count": null,
   "metadata": {},
   "outputs": [],
   "source": [
    "km = KModes(n_clusters=C, init='Huang', n_init=5, verbose=0)\n",
    "clusters = km.fit_predict(X.transpose())\n",
    "#print(km.cluster_centroids_)\n",
    "print(km.labels_)\n",
    "print(km.n_iter_)\n",
    "print(km.cost_)"
   ]
  },
  {
   "cell_type": "code",
   "execution_count": null,
   "metadata": {},
   "outputs": [],
   "source": [
    "print(c)"
   ]
  },
  {
   "cell_type": "code",
   "execution_count": null,
   "metadata": {},
   "outputs": [],
   "source": [
    "import pandas as pd\n",
    "pd.options.display.width = 1000\n",
    "pd.options.display.precision = 3\n",
    "j = np.where(c == 0)[0]\n",
    "k = np.where(c == 1)[0]\n",
    "i = np.concatenate((j, k))\n",
    "print(j)\n",
    "print(k)\n",
    "xi = pd.DataFrame(X[:,i])\n",
    "xi.corr()"
   ]
  },
  {
   "cell_type": "markdown",
   "metadata": {},
   "source": [
    "This shows that it's not easy to recover the classes from responses, since items that measure the same dimension are not necessarily highly correlated. For now, we will assume the apriori knownledge of $c$, the correspondence between items and dimensions. "
   ]
  },
  {
   "cell_type": "code",
   "execution_count": null,
   "metadata": {},
   "outputs": [],
   "source": [
    "tree = cntree.CNTree(max_levels=20, max_cluster_radius=max_cluster_radius, max_cluster_size=max_cluster_size, metric=\"abs_cos2\", debug=1)\n",
    "clustering = tree.cluster(y_normalized)\n"
   ]
  },
  {
   "cell_type": "code",
   "execution_count": null,
   "metadata": {},
   "outputs": [],
   "source": [
    "# Initial Guess for $\\theta$"
   ]
  },
  {
   "cell_type": "code",
   "execution_count": null,
   "metadata": {},
   "outputs": [],
   "source": [
    "# Initial guess for theta_p^c: fraction of correct responses of person p to items measuring\n",
    "# sub-scale c.\n",
    "theta_init = np.array([np.mean(X[:, np.where(c == d)[0]], axis=1) for d in range(C)])"
   ]
  },
  {
   "cell_type": "code",
   "execution_count": null,
   "metadata": {},
   "outputs": [],
   "source": [
    "u, s, vh = svd(X)"
   ]
  },
  {
   "cell_type": "code",
   "execution_count": null,
   "metadata": {},
   "outputs": [],
   "source": [
    "plt.plot(s, 'bo-')"
   ]
  },
  {
   "cell_type": "code",
   "execution_count": null,
   "metadata": {},
   "outputs": [],
   "source": [
    "print(vh.shape)\n",
    "for r in range(1, X.shape[1] + 1, 5):\n",
    "    P = vh[:r].transpose()\n",
    "    print(r, norm(X - (X.dot(P)).dot(P.transpose())) / norm(X))\n",
    "\n",
    "r = 5\n",
    "P = vh[:r].transpose()\n",
    "t = X.dot(P)\n",
    "X_reconstructed = t.dot(P.transpose())\n",
    "print(X.shape, P.shape, XC.shape)\n",
    "print(P[:3])\n",
    "print(t[:4])\n",
    "print(X[3:])\n",
    "print(X_reconstructed[3:])"
   ]
  },
  {
   "cell_type": "code",
   "execution_count": null,
   "metadata": {},
   "outputs": [],
   "source": [
    "np.mean(t, axis=0)"
   ]
  },
  {
   "cell_type": "code",
   "execution_count": null,
   "metadata": {},
   "outputs": [],
   "source": [
    "np.mean(X, axis=0)"
   ]
  },
  {
   "cell_type": "code",
   "execution_count": null,
   "metadata": {},
   "outputs": [],
   "source": []
  }
 ],
 "metadata": {
  "kernelspec": {
   "display_name": "Python 3",
   "language": "python",
   "name": "python3"
  },
  "language_info": {
   "codemirror_mode": {
    "name": "ipython",
    "version": 3
   },
   "file_extension": ".py",
   "mimetype": "text/x-python",
   "name": "python",
   "nbconvert_exporter": "python",
   "pygments_lexer": "ipython3",
   "version": "3.7.6"
  }
 },
 "nbformat": 4,
 "nbformat_minor": 2
}
