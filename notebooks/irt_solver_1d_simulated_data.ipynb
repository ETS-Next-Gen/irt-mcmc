{
 "cells": [
  {
   "cell_type": "markdown",
   "metadata": {},
   "source": [
    "# IRT Solver - Unidieme Latent Variable Data Generation\n",
    "We first assume that each item measures a single sub-scale, and we report population scores on the same sub-scale. Thus, the problem can be solved separately for every sub-scale.\n",
    "\n",
    "To test our non-parametric IRT model, we generate items with a parameteric form and sample student abilities from the standard prior distributions assumed in IRT literature. We then use our solver (simulated annealing and IRF refinement out loop, with MCMC estimation of $\\theta$ within each step)."
   ]
  },
  {
   "cell_type": "code",
   "execution_count": 38,
   "metadata": {},
   "outputs": [
    {
     "name": "stdout",
     "output_type": "stream",
     "text": [
      "The autoreload extension is already loaded. To reload it, use:\n",
      "  %reload_ext autoreload\n"
     ]
    }
   ],
   "source": [
    "# Simulate MCMC model data: pick the true parameter variables from the model's prior distribution.\n",
    "#import cluster.cntree.cntree as cntree\n",
    "import collections\n",
    "import logging\n",
    "import matplotlib.pyplot as plt\n",
    "import nirt.irf\n",
    "import nirt.mcmc\n",
    "import nirt.simulate.simulate_data\n",
    "import nirt.solver\n",
    "import numpy as np\n",
    "import numpy.matlib\n",
    "from numpy.linalg import norm, svd\n",
    "\n",
    "%load_ext autoreload\n",
    "%autoreload 2\n",
    "\n",
    "level = logging.INFO\n",
    "for handler in logging.root.handlers[:]: logging.root.removeHandler(handler)\n",
    "logging.basicConfig(level=level, format=\"%(levelname)-8s %(message)s\", datefmt=\"%a, %d %b %Y %H:%M:%S\")\n",
    "\n",
    "# Deterministic results.\n",
    "numpy.random.seed(0)"
   ]
  },
  {
   "cell_type": "code",
   "execution_count": 39,
   "metadata": {},
   "outputs": [],
   "source": [
    "# Number of persons.\n",
    "P = 1000\n",
    "# Number of items.\n",
    "I = 20\n",
    "# Number of latent ability dimensions (sub-scales).\n",
    "C = 1\n",
    "# Fixed item asymptote (pi) as theta -> -\\infty = probability of guessing.\n",
    "asym = 0 # 0.25\n",
    "# Constant a for all items.\n",
    "discrimination = 1"
   ]
  },
  {
   "cell_type": "code",
   "execution_count": 40,
   "metadata": {},
   "outputs": [],
   "source": [
    "X, theta, b, c = nirt.simulate.simulate_data.generate_simulated_data(P, I, C, asym=asym, discrimination=discrimination)"
   ]
  },
  {
   "cell_type": "code",
   "execution_count": 41,
   "metadata": {},
   "outputs": [
    {
     "name": "stdout",
     "output_type": "stream",
     "text": [
      "(1000, 1)\n"
     ]
    },
    {
     "data": {
      "image/png": "[encoded data removed]",
      "text/plain": [
       "<Figure size 432x288 with 1 Axes>"
      ]
     },
     "metadata": {
      "needs_background": "light"
     },
     "output_type": "display_data"
    }
   ],
   "source": [
    "# Verify that student latent abilities are normally distributed. theta_c ~ N(0, invgamma(a_c,b_c))\n",
    "print(theta.shape)\n",
    "plt.hist(theta, 50)\n",
    "plt.xlabel(r'$\\theta$')\n",
    "plt.ylabel('Frequency')\n",
    "plt.show()"
   ]
  },
  {
   "cell_type": "markdown",
   "metadata": {},
   "source": [
    "# Initial Guess for $\\theta$\n",
    "Initial guess for $\\theta_p^c$: the number of standard deviations person's c's success fraction is away from the mean success fraction of persons in items measuring sub-scale $c$.\n",
    "\n",
    "When we add more persons to the simulation at each refinement step, we use the MLE ($T=0$) as the initial guess for the added persons's $\\theta_p$'s."
   ]
  },
  {
   "cell_type": "markdown",
   "metadata": {},
   "source": [
    "# Building IRFs from $\\theta$\n",
    "The IRF of item $i$ is a 1D function of $\\theta$ in this case. Use a histogram of the currently \"active\" persons (those being estimated) to build the IRF."
   ]
  },
  {
   "cell_type": "code",
   "execution_count": 42,
   "metadata": {},
   "outputs": [],
   "source": [
    "solver = nirt.solver.Solver(X, c, sample_size=20, num_iterations=5, num_sweeps=5)\n",
    "theta = solver.initial_guess()"
   ]
  },
  {
   "cell_type": "code",
   "execution_count": 97,
   "metadata": {},
   "outputs": [
    {
     "name": "stdout",
     "output_type": "stream",
     "text": [
      "Sampled persons into bins of minimum size 20; sample size 80\n"
     ]
    }
   ],
   "source": [
    "# For each dimension, bin persons by theta values into n bins so that there are at most sample_size in each bin.\n",
    "n = 10\n",
    "bins = nirt.irf.sample_bins(theta[:, 0], n, solver._sample_size)\n",
    "print(\"Sampled persons into bins of minimum size {}; sample size {}\".format(\n",
    "    solver._sample_size, sum(len(bin) for bin in bins)))\n",
    "# Build IRFs from theta values. Assuming the same resolution for all item IRFs, so this is an I x n array.\n",
    "irf = nirt.irf.ItemResponseFunction.merge([nirt.irf.histogram(X[:, i], bins) for i in range(I)])"
   ]
  },
  {
   "cell_type": "code",
   "execution_count": 122,
   "metadata": {},
   "outputs": [
    {
     "name": "stdout",
     "output_type": "stream",
     "text": [
      "[0.00131635 0.00964543 0.0671335  0.3471526  0.79712493 0.9667029\n",
      " 0.99536014 0.99936953 0.99991463 0.99998845]\n",
      "[0.   0.   0.   0.25 0.65 0.95 1.   0.   0.   0.  ]\n",
      "MSE, all samples: 0.06\n",
      "MSE, 20 samples: 0.02\n"
     ]
    },
    {
     "data": {
      "image/png": "[encoded data removed]",
      "text/plain": [
       "<Figure size 432x288 with 1 Axes>"
      ]
     },
     "metadata": {
      "needs_background": "light"
     },
     "output_type": "display_data"
    }
   ],
   "source": [
    "i = 2 # Item number\n",
    "\n",
    "sampled_bins = nirt.irf.sample_bins(theta[:, c[i]], n, solver._sample_size)\n",
    "sampled_irf = nirt.irf.histogram(X[:,i], sampled_bins)\n",
    "\n",
    "ax = plt.gca()\n",
    "def model_irf(t): return nirt.simulate.simulate_data.three_pl_model(t, discrimination, b[i], asym)\n",
    "nirt.simulate.simulate_data.plot_model_irf(ax, model_irf, n, color=\"blue\", label=\"Original\")\n",
    "nirt.simulate.simulate_data.plot_discrete_irf(ax, irf[i], n, color=\"green\", label=\"All samples\")\n",
    "nirt.simulate.simulate_data.plot_discrete_irf(ax, sampled_irf,  n, color=\"red\", label=\"{} samples\".format(solver._sample_size))\n",
    "plt.title(\"IRF Item {}\".format(i))\n",
    "ax.grid(True)\n",
    "_ = ax.legend()\n",
    "\n",
    "bin_centers = nirt.irf.bin_centers(n)\n",
    "exact_irf = np.array([model_irf(t) for t in bin_centers])\n",
    "print(exact_irf)\n",
    "print(irf.probability[i])\n",
    "def error(exact_irf, irf):\n",
    "    has_data = irf.count > 0\n",
    "    return exact_irf[has_data] - irf.probability[has_data]\n",
    "e = error(exact_irf, irf[i])\n",
    "print(\"|parametric-all samples| MSE {:.2f}\".format(np.linalg.norm(e)/n**0.5))\n",
    "e = error(exact_irf, sampled_irf)\n",
    "print(\"|parametric - sampled| MSE {:.2f}\".format(np.linalg.norm(e)/n**0.5))\n",
    "\n",
    "has_data = sampled_irf.count > 0 & \n",
    "\n",
    "print(\"|all samples - sampled| MSE {:.2f}\".format(np.linalg.norm(sampled_irf.probability)/n**0.5))"
   ]
  },
  {
   "cell_type": "markdown",
   "metadata": {},
   "source": [
    "$P_i(\\theta)$ is monotonically increasing. The discrete approximation to the original synthetic (parametric) form is excellent. 20 persons per bin gives a reasonable approximation."
   ]
  },
  {
   "cell_type": "markdown",
   "metadata": {},
   "source": [
    "# Initial Guess for incoming $\\theta$ (upon refinement)\n",
    "When we add more persons to the simulation at each refinement step, we use the MLE ($T=0$) as the initial guess for the added persons's $\\theta_p$'s."
   ]
  },
  {
   "cell_type": "code",
   "execution_count": 65,
   "metadata": {},
   "outputs": [],
   "source": [
    "likelihood = nirt.likelihood.Likelihood(X, c, irf)"
   ]
  },
  {
   "cell_type": "code",
   "execution_count": 84,
   "metadata": {},
   "outputs": [
    {
     "name": "stdout",
     "output_type": "stream",
     "text": [
      "p 0 MLE estimator: 0.0\n"
     ]
    },
    {
     "data": {
      "image/png": "[encoded data removed]",
      "text/plain": [
       "<Figure size 432x288 with 1 Axes>"
      ]
     },
     "metadata": {
      "needs_background": "light"
     },
     "output_type": "display_data"
    },
    {
     "name": "stdout",
     "output_type": "stream",
     "text": [
      "p 1 MLE estimator: 3.30123566177973\n"
     ]
    },
    {
     "data": {
      "image/png": "[encoded data removed]",
      "text/plain": [
       "<Figure size 432x288 with 1 Axes>"
      ]
     },
     "metadata": {
      "needs_background": "light"
     },
     "output_type": "display_data"
    },
    {
     "name": "stdout",
     "output_type": "stream",
     "text": [
      "p 2 MLE estimator: -2.4561724771840048\n"
     ]
    },
    {
     "data": {
      "image/png": "[encoded data removed]",
      "text/plain": [
       "<Figure size 432x288 with 1 Axes>"
      ]
     },
     "metadata": {
      "needs_background": "light"
     },
     "output_type": "display_data"
    }
   ],
   "source": [
    "for p in range(3):\n",
    "    # Check whether the likelihood of a person's theta is concave (has a unique maximum).\n",
    "    likelihood.plot_person_log_likelihood(p, 0)\n",
    "    # See that we can find this minimum with a root finder.\n",
    "    t = likelihood.parameter_mle(p, 0)\n",
    "    print(\"p {} MLE estimator: {}\".format(p, t))\n",
    "    plt.plot(t, likelihood.person_log_likelihood(p, 0, t), 'ro', 'markersize', 12)\n",
    "    plt.show()"
   ]
  },
  {
   "cell_type": "code",
   "execution_count": 69,
   "metadata": {},
   "outputs": [
    {
     "data": {
      "text/plain": [
       "     fun: 6.927047343209385\n",
       "    nfev: 9\n",
       "     nit: 2\n",
       " success: False\n",
       "       x: -2.4561724771840048"
      ]
     },
     "execution_count": 69,
     "metadata": {},
     "output_type": "execute_result"
    }
   ],
   "source": []
  },
  {
   "cell_type": "code",
   "execution_count": null,
   "metadata": {},
   "outputs": [],
   "source": []
  }
 ],
 "metadata": {
  "kernelspec": {
   "display_name": "Python 3",
   "language": "python",
   "name": "python3"
  },
  "language_info": {
   "codemirror_mode": {
    "name": "ipython",
    "version": 3
   },
   "file_extension": ".py",
   "mimetype": "text/x-python",
   "name": "python",
   "nbconvert_exporter": "python",
   "pygments_lexer": "ipython3",
   "version": "3.7.6"
  }
 },
 "nbformat": 4,
 "nbformat_minor": 2
}
