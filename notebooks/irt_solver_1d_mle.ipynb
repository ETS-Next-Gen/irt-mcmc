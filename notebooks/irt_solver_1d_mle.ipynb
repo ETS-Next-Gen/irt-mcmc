{
 "cells": [
  {
   "cell_type": "markdown",
   "metadata": {},
   "source": [
    "# IRT Solver - Iterative Refinement - Simulated Data\n",
    "We assume that each item measures a single scale.\n",
    "\n",
    "To test our non-parametric IRT model, we generate $20$ items with a parameteric form and sample $200$ student abilities from the prior distribution (normal) assumed in IRT literature. We then use our solver (IRF refinement outer loop for continuation; iterations of updating IRFs using a histogram and MLE estimation of $\\theta$ for each IRF resolution).\n",
    "\n",
    "The process converges to a stationary point, but the resulting IRFs are not smooth."
   ]
  },
  {
   "cell_type": "code",
   "execution_count": 197,
   "metadata": {},
   "outputs": [
    {
     "name": "stdout",
     "output_type": "stream",
     "text": [
      "The autoreload extension is already loaded. To reload it, use:\n",
      "  %reload_ext autoreload\n"
     ]
    }
   ],
   "source": [
    "# Simulate MCMC model data: pick the true parameter variables from the model's prior distribution.\n",
    "#import cluster.cntree.cntree as cntree\n",
    "import collections\n",
    "import logging\n",
    "import matplotlib.pyplot as plt\n",
    "import nirt.error\n",
    "import nirt.irf\n",
    "import nirt.likelihood\n",
    "import nirt.mcmc\n",
    "import nirt.run_recorder\n",
    "import nirt.simulate.simulate_data\n",
    "import nirt.simulate.plot_irf\n",
    "import nirt.solver\n",
    "import nirt.solver_refinement\n",
    "import numpy as np\n",
    "import numpy.matlib\n",
    "from numpy.linalg import norm, svd\n",
    "\n",
    "%load_ext autoreload\n",
    "%autoreload 2\n",
    "\n",
    "level = logging.INFO\n",
    "for handler in logging.root.handlers[:]: logging.root.removeHandler(handler)\n",
    "logging.basicConfig(level=level, format=\"%(levelname)-8s %(message)s\", datefmt=\"%a, %d %b %Y %H:%M:%S\")\n",
    "\n",
    "logger = logging.getLogger(\"main\")\n",
    "\n",
    "# Deterministic results.\n",
    "numpy.random.seed(2)"
   ]
  },
  {
   "cell_type": "code",
   "execution_count": 198,
   "metadata": {},
   "outputs": [],
   "source": [
    "# Number of persons.\n",
    "P = 200\n",
    "# Number of items.\n",
    "I = 20\n",
    "# Number of latent ability dimensions (sub-scales).\n",
    "C = 1\n",
    "# Fixed item asymptote (pi) as theta -> -\\infty = probability of guessing.\n",
    "asym = 0 # 0.25\n",
    "# Constant a for all items.\n",
    "discrimination = 1"
   ]
  },
  {
   "cell_type": "markdown",
   "metadata": {},
   "source": [
    "## Generate Synthetic Data"
   ]
  },
  {
   "cell_type": "code",
   "execution_count": null,
   "metadata": {},
   "outputs": [],
   "source": [
    "# Algorithm parameters.\n",
    "num_bins = 5\n",
    "num_iterations = 10\n",
    "num_theta_sweeps = 5\n",
    "# Initial simulated annealing temperature.\n",
    "temperature = 1\n",
    "# IRF binning strategy.\n",
    "grid_method = \"quantile\" # \"uniform-fixed\" # \"quantile\" # \"uniform\" "
   ]
  },
  {
   "cell_type": "code",
   "execution_count": null,
   "metadata": {},
   "outputs": [],
   "source": [
    "X, theta_exact, b, c = nirt.simulate.simulate_data.generate_dichotomous_responses(P, I, C, asymptote=asym, discrimination=discrimination)\n",
    "model_irf = [lambda t,i=i: nirt.simulate.simulate_data.three_pl_model(t, discrimination, b[i], asym) for i in range(I)]\n",
    "#print(\"v_exact\", v_exact)"
   ]
  },
  {
   "cell_type": "code",
   "execution_count": null,
   "metadata": {},
   "outputs": [],
   "source": [
    "# Verify that student latent abilities are normally distributed. theta_c ~ N(0, invgamma(a_c,b_c))\n",
    "print(theta_exact.shape)\n",
    "plt.hist(theta_exact[:, 0], 50)\n",
    "plt.xlabel(r'$\\theta$')\n",
    "plt.ylabel('Frequency')\n",
    "plt.show()"
   ]
  },
  {
   "cell_type": "code",
   "execution_count": null,
   "metadata": {},
   "outputs": [],
   "source": [
    "plt.scatter(range(I), np.sum(X, axis=0)/P, label=\"Success Prob\")\n",
    "plt.scatter(range(I), b, label=\"b\")\n",
    "plt.xlabel(\"Item number $i$\")\n",
    "plt.ylabel(\"Probability of person success on $X(:,i)$\")\n",
    "plt.legend();"
   ]
  },
  {
   "cell_type": "markdown",
   "metadata": {},
   "source": [
    "# Initial Guess for $\\theta$\n",
    "Initial guess for $\\theta_p^c$: the number of standard deviations person's c's success fraction is away from the mean success fraction of persons in items measuring sub-scale $c$.\n",
    "\n",
    "When we add more persons to the simulation at each refinement step, we use the MLE ($T=0$) as the initial guess for the added persons's $\\theta_p$'s."
   ]
  },
  {
   "cell_type": "markdown",
   "metadata": {},
   "source": [
    "# Building IRFs from All $\\theta$s vs. from Sampled $\\theta$\n",
    "The IRF of item $i$ is a 1D function of $\\theta$ in this case. Use a histogram of the currently \"active\" persons (those being estimated) to build the IRF."
   ]
  },
  {
   "cell_type": "code",
   "execution_count": null,
   "metadata": {},
   "outputs": [],
   "source": [
    "theta = nirt.likelihood.initial_guess(X, c)\n",
    "theta = (theta - np.mean(theta, axis=0))/np.std(theta, axis=0)\n",
    "theta_init = theta"
   ]
  },
  {
   "cell_type": "code",
   "execution_count": null,
   "metadata": {},
   "outputs": [],
   "source": [
    "print(\"mean\", np.mean(theta, axis=0))\n",
    "print(\"std\", np.std(theta, axis=0))"
   ]
  },
  {
   "cell_type": "code",
   "execution_count": null,
   "metadata": {},
   "outputs": [],
   "source": [
    "# For each dimension, bin ALL persons by theta values into n bins. Binning strategy is either\n",
    "# quantiles (so all bins have equal sizes) or uniform grid on a fixed domain [-M,M].\n",
    "inactive = np.arange(P, dtype=int)\n",
    "active = np.array([], dtype=int)\n",
    "\n",
    "xlim = [(min(theta[:, ci])-1, max(theta[:, ci])+1) for ci in range(C)]\n",
    "grid_all = [nirt.grid.create_grid(theta[:, ci], num_bins, method=grid_method, xlim=xlim[ci]) for ci in range(C)]\n",
    "irf_all = [nirt.irf.ItemResponseFunction(grid_all[ci], X[:, i]) for i, ci in enumerate(c)]\n",
    "print(\"Grid limits\", xlim)"
   ]
  },
  {
   "cell_type": "code",
   "execution_count": null,
   "metadata": {},
   "outputs": [],
   "source": [
    "# Print the distribution of bin sizes. Should be uniform since it's a quantile grid.\n",
    "plt.hist(grid_all[0].bin_index, num_bins)\n",
    "plt.xlabel('bin index')\n",
    "plt.ylabel('#persons in bin');"
   ]
  },
  {
   "cell_type": "code",
   "execution_count": null,
   "metadata": {},
   "outputs": [],
   "source": [
    "# Generate histogram IRFs from a sample of persons.\n",
    "initial_sample_per_bin = 10\n",
    "sample_size = initial_sample_per_bin * num_bins\n",
    "sample = np.random.choice(inactive, size=sample_size, replace=False)\n",
    "#sample = np.arange(P, dtype=int)\n",
    "active = np.concatenate((active, sample))\n",
    "theta_active = theta[sample]\n",
    "\n",
    "# Index arrays for converting theta[active] into flattened form and back.\n",
    "person_ind = np.tile(active[:, None], C).flatten()\n",
    "c_ind = np.tile(np.arange(C)[None, :], len(active)).flatten()\n",
    "active_ind = (person_ind, c_ind)"
   ]
  },
  {
   "cell_type": "code",
   "execution_count": null,
   "metadata": {},
   "outputs": [],
   "source": [
    "grid = [nirt.grid.create_grid(theta_active[:, ci], num_bins, method=grid_method, xlim=xlim[ci]) for ci in range(C)]\n",
    "irf = np.array([nirt.irf.ItemResponseFunction(grid[ci], X[sample, i]) for i, ci in enumerate(c)])\n",
    "e_all = nirt.error.error_norm_by_item(model_irf, irf_all)\n",
    "e = nirt.error.error_norm_by_item(model_irf, irf)\n",
    "print(\"IRF error of the {} items\".format(I))\n",
    "print(\"All samples: {:.3f} +- {:.3f}\".format(e_all.mean(), e_all.std()))\n",
    "print(\"{} samples: {:.3f} +- {:.3f}\".format(sample_size, e.mean(), e.std()))"
   ]
  },
  {
   "cell_type": "code",
   "execution_count": null,
   "metadata": {},
   "outputs": [],
   "source": [
    "fig, axs = plt.subplots(I // 4, 4, figsize=(12, 0.8*I))\n",
    "for i in range(I):\n",
    "    ax = axs[i // 4, i % 4]\n",
    "    nirt.simulate.plot_irf.plot_model_irf(ax, grid[c[i]], model_irf[i], num_bins, color=\"blue\", label=\"Original\")\n",
    "    irf_all[i].plot(ax, color=\"green\", label=\"{} samples\".format(theta.shape[0]))\n",
    "    irf[i].plot(ax, color=\"red\", label=\"{} samples\".format(sample_size))\n",
    "    ax.set_title(\"I {} All {:.2f} Sampled {:.2f}\".format(i, e_all[i], e[i]))\n",
    "    ax.grid(True)"
   ]
  },
  {
   "cell_type": "markdown",
   "metadata": {},
   "source": [
    "$P_i(\\theta)$ is generally monotonically increasing. The discrete approximation to the original synthetic (parametric) form is excellent. 20 persons per bin gives a reasonable approximation."
   ]
  },
  {
   "cell_type": "markdown",
   "metadata": {},
   "source": [
    "<!-- # Initial Guess for incoming $\\theta$ (upon refinement)\n",
    "When we add more persons to the simulation at each refinement step, we use the MLE ($T=0$) as the initial guess for the added persons's $\\theta_p$'s. -->"
   ]
  },
  {
   "cell_type": "markdown",
   "metadata": {},
   "source": [
    "# Simple Solver: Iterative IRF Refinement + Direct MLE for $\\theta$"
   ]
  },
  {
   "cell_type": "markdown",
   "metadata": {},
   "source": [
    "In the simplest method of iterating between updating IRFs, and improving $\\theta$ using the exact MLE, we see convergence only if $\\theta$ is normalized to $0$ mean and unit standard deviation, and assuming a normal prior distribution in MLE estimation."
   ]
  },
  {
   "cell_type": "code",
   "execution_count": 235,
   "metadata": {},
   "outputs": [],
   "source": [
    "active = np.arange(P, dtype=int)\n",
    "sample = active\n",
    "theta_active = theta[sample]"
   ]
  },
  {
   "cell_type": "code",
   "execution_count": 236,
   "metadata": {},
   "outputs": [],
   "source": [
    "print(\"mean\", np.mean(theta[active], axis=0))\n",
    "print(\"std\", np.std(theta[active], axis=0))"
   ]
  },
  {
   "cell_type": "code",
   "execution_count": 237,
   "metadata": {},
   "outputs": [],
   "source": [
    "#v = v_exact\n",
    "likelihood = nirt.likelihood.Likelihood(X, c, irf)\n",
    "%time mle = np.array([[likelihood.parameter_mle(p, c, max_iter=5)  for c in range(C)] for p in sample])"
   ]
  },
  {
   "cell_type": "code",
   "execution_count": 238,
   "metadata": {},
   "outputs": [],
   "source": [
    "# %time mle_localized = np.array([[likelihood.parameter_mle(p, c, max_iter=5, theta_init=theta_active[p][c]) for c in range(C)] for p in sample])"
   ]
  },
  {
   "cell_type": "code",
   "execution_count": 239,
   "metadata": {},
   "outputs": [],
   "source": [
    "# # Difference between localized and global maximization.\n",
    "# ind = np.argmax(np.abs(mle_localized-mle))\n",
    "# #print(mle_localized-mle)\n",
    "# print(np.where(np.abs(mle_localized-mle) > 1e-10)[0])\n",
    "# print(ind, mle[ind], mle_localized[ind], theta_active[sample[ind]])"
   ]
  },
  {
   "cell_type": "code",
   "execution_count": 240,
   "metadata": {},
   "outputs": [],
   "source": [
    "#ind = np.unravel_index(np.argmax(mle, axis=None), mle.shape)\n",
    "#print(ind, sample[ind[0]], mle.max(), mle[ind])"
   ]
  },
  {
   "cell_type": "markdown",
   "metadata": {},
   "source": [
    "### Example of Conditional Log Likelihood of a Person\n",
    "Which we maximize to obtain that person's MLE estimate. It is piecewise convex."
   ]
  },
  {
   "cell_type": "code",
   "execution_count": 244,
   "metadata": {},
   "outputs": [
    {
     "name": "stdout",
     "output_type": "stream",
     "text": [
      "p 85 c 0 MLE estimator: -1.6716913358119678\n",
      "-1.6716913358119678 -8.669935797627488\n"
     ]
    },
    {
     "data": {
      "image/png": "[encoded data removed]",
      "text/plain": [
       "<Figure size 432x432 with 1 Axes>"
      ]
     },
     "metadata": {
      "needs_background": "light"
     },
     "output_type": "display_data"
    }
   ],
   "source": [
    "# Check whether the likelihood of a person's theta is concave (has a unique maximum). Verify\n",
    "# that the MLE is close to the argmax.\n",
    "dim = 0\n",
    "\n",
    "persons = [ind] # sample[:3]\n",
    "fig, axs = plt.subplots(len(persons), 1, figsize=(6, 6))\n",
    "for k, p in enumerate(persons):\n",
    "    ax = axs[k] if len(persons) > 1 else axs\n",
    "    t_mle = likelihood.parameter_mle(p, dim, max_iter=5) \n",
    "    print(\"p {} c {} MLE estimator: {}\".format(p, dim, t_mle))\n",
    "    likelihood.plot_person_log_likelihood(ax, p, dim)\n",
    "    l_mle = likelihood.log_likelihood_term(np.array([t_mle]), active=(np.array([p]), np.array([dim])))[0]\n",
    "    print(t_mle, l_mle)\n",
    "    ax.plot(t_mle, l_mle, 'ro', markersize=8)\n",
    "    ax.grid(True)\n",
    "    ax.set_ylim([8 * l_mle, 0.5 * l_mle])\n",
    "    ax.set_title(\"p {}\".format(p))\n",
    "    x = likelihood._irf[dim].x\n",
    "#    print(x)\n",
    "    L = likelihood.log_likelihood_term(x, active=(np.array([p] * x.size), np.array([dim] * x.size)))\n",
    "#    print(L)\n"
   ]
  },
  {
   "cell_type": "code",
   "execution_count": 246,
   "metadata": {},
   "outputs": [],
   "source": [
    "# tt = np.linspace(-10, 10, 100)\n",
    "# print(\"p\", p)\n",
    "# #print(\"v\", v)\n",
    "# x = X[p]\n",
    "\n",
    "# def clipped_log(x):\n",
    "#     return np.log(np.maximum(x, 1e-30))\n",
    "\n",
    "# L_exact = sum(x[i]*clipped_log(model_irf[i](tt)) \n",
    "#               + (1-x[i])*clipped_log(1-model_irf[i](tt)) \n",
    "#                 for i in range(I))\n",
    "# L_approx = sum(x[i]*clipped_log(irf[i].interpolant(tt)) \n",
    "#                + (1-x[i])*clipped_log(1-irf[i].interpolant(tt)) \n",
    "#                 for i in range(I))\n",
    "# prior = -tt**2# / v[0]\n",
    "# L_total = L_exact + prior\n",
    "# L_total_approx = L_approx + prior\n",
    "\n",
    "# likelihood = nirt.likelihood.Likelihood(X, c, irf)\n",
    "# ours = np.array([likelihood._total_likelihood_sum_implementation(ti, p, dim)\n",
    "#                  for ti in tt])\n",
    "# print(L_total_approx - ours)\n",
    "# t_mle = likelihood.parameter_mle(p, dim, max_iter=5)\n",
    "# l_mle = likelihood.log_likelihood_term(np.array([t_mle]), active=(np.array([p]), np.array([dim])))[0]\n",
    "# print(t_mle, l_mle)\n",
    "\n",
    "# #plt.plot(tt, L_exact, label=\"L_exact\")\n",
    "# #plt.plot(tt, prior, label=\"prior\")\n",
    "# plt.plot(tt, L_total, label=\"L_total_exact\")\n",
    "# plt.plot(tt, L_total_approx, label=\"L_total_approx\")\n",
    "# plt.grid(True)\n",
    "# plt.ylim([-100, 0])\n",
    "# #plt.xlim([0, 10])\n",
    "# print(p, X[p], theta_exact[p], theta_init[p], theta[p])\n",
    "# print(\"Exact  {:.3f} {:.3f}\".format(tt[L_total.argmax()], max(L_total)))\n",
    "# print(\"Approx {:.3f} {:.3f}\".format(tt[L_total_approx.argmax()], max(L_total_approx)))"
   ]
  },
  {
   "cell_type": "markdown",
   "metadata": {},
   "source": [
    "# Itertative Refinement Algorithm\n",
    "We run the following iterative refinement algorithm: start with 4 bins; IRF resolution is doubled; at each resolution theta is improved to the MLE. Finish when IRF resolution is about\n",
    "$[P/10]$."
   ]
  },
  {
   "cell_type": "code",
   "execution_count": 231,
   "metadata": {},
   "outputs": [
    {
     "name": "stderr",
     "output_type": "stream",
     "text": [
      "INFO     Initial guess range [-2.42, 2.94] mean -0.00 std 1.00\n",
      "INFO     Solving at IRF resolution 4\n",
      "INFO     Iteration 1/5\n",
      "INFO     Iteration 2/5\n",
      "INFO     Iteration 3/5\n",
      "INFO     Iteration 4/5\n",
      "INFO     Iteration 5/5\n",
      "INFO     Solving at IRF resolution 8\n",
      "INFO     Iteration 1/5\n",
      "INFO     Iteration 2/5\n",
      "INFO     Iteration 3/5\n",
      "INFO     Iteration 4/5\n",
      "INFO     Iteration 5/5\n",
      "INFO     Solving at IRF resolution 16\n",
      "INFO     Iteration 1/5\n",
      "INFO     Iteration 2/5\n",
      "INFO     Iteration 3/5\n",
      "INFO     Iteration 4/5\n",
      "INFO     Iteration 5/5\n"
     ]
    }
   ],
   "source": [
    "# Run iterative refinement algorithm.\n",
    "# v is fixed.\n",
    "recorder = nirt.run_recorder.RunRecorder()\n",
    "solver = nirt.solver_refinement.SolverRefinement(\n",
    "    X, c, num_iterations=5, num_theta_sweeps=num_theta_sweeps, grid_method=grid_method,\n",
    "    recorder=recorder,     finest_resolution=16, coarsest_resolution=4,\n",
    "num_smoothing_sweeps=0)\n",
    "\n",
    "t = solver.solve()"
   ]
  },
  {
   "cell_type": "code",
   "execution_count": 232,
   "metadata": {},
   "outputs": [
    {
     "data": {
      "image/png": "[encoded data removed]",
      "text/plain": [
       "<Figure size 432x288 with 1 Axes>"
      ]
     },
     "metadata": {
      "needs_background": "light"
     },
     "output_type": "display_data"
    }
   ],
   "source": [
    "plt.hist(recorder.theta[4][1]);\n",
    "plt.xlabel(\"$\\theta$\");"
   ]
  },
  {
   "cell_type": "code",
   "execution_count": 233,
   "metadata": {},
   "outputs": [
    {
     "name": "stderr",
     "output_type": "stream",
     "text": [
      "INFO     IRF resolution 4\n",
      "INFO     IRF error: 0.049 +- 0.021\tt range -2.30, 3.28\n",
      "INFO     IRF error: 0.063 +- 0.027\tt range -2.20, 3.51\n",
      "INFO     IRF error: 0.070 +- 0.030\tt range -2.15, 3.54\n",
      "INFO     IRF error: 0.073 +- 0.033\tt range -2.13, 3.55\n",
      "INFO     IRF error: 0.076 +- 0.038\tt range -2.09, 3.49\n",
      "INFO     IRF resolution 8\n",
      "INFO     IRF error: 0.091 +- 0.048\tt range -2.19, 3.75\n",
      "INFO     IRF error: 0.113 +- 0.050\tt range -2.24, 3.70\n",
      "INFO     IRF error: 0.121 +- 0.055\tt range -2.18, 3.71\n",
      "INFO     IRF error: 0.125 +- 0.056\tt range -2.15, 3.71\n",
      "INFO     IRF error: 0.129 +- 0.055\tt range -2.12, 3.68\n",
      "INFO     IRF resolution 16\n",
      "INFO     IRF error: 0.158 +- 0.059\tt range -2.08, 3.65\n",
      "INFO     IRF error: 0.174 +- 0.063\tt range -2.09, 3.70\n",
      "INFO     IRF error: 0.177 +- 0.065\tt range -2.10, 3.64\n",
      "INFO     IRF error: 0.177 +- 0.065\tt range -2.10, 3.61\n",
      "INFO     IRF error: 0.177 +- 0.064\tt range -2.10, 3.61\n"
     ]
    }
   ],
   "source": [
    "# Run history: calculate the IRF error from the known parametric model.\n",
    "\n",
    "for resolution, value in recorder.irf.items():\n",
    "    logger.info(\"IRF resolution {}\".format(resolution))\n",
    "    for j in range(len(value)):\n",
    "        e = nirt.error.error_norm_by_item(model_irf, value[j])\n",
    "        t = recorder.theta[resolution][j]\n",
    "        logger.info(\"IRF error: {:.3f} +- {:.3f}\\tt range {:.2f}, {:.2f}\".format(\n",
    "            e.mean(), e.std(), t.min(), t.max()))"
   ]
  },
  {
   "cell_type": "code",
   "execution_count": 247,
   "metadata": {},
   "outputs": [
    {
     "name": "stdout",
     "output_type": "stream",
     "text": [
      "[4, 8, 16]\n"
     ]
    },
    {
     "data": {
      "image/png": "[encoded data removed]",
      "text/plain": [
       "<Figure size 576x864 with 3 Axes>"
      ]
     },
     "metadata": {
      "needs_background": "light"
     },
     "output_type": "display_data"
    }
   ],
   "source": [
    "i = 5\n",
    "resolutions = list(recorder.irf.keys())\n",
    "print(resolutions)\n",
    "fig, axs = plt.subplots(len(resolutions), 1, figsize=(8, 4*len(resolutions)))\n",
    "for k, resolution in enumerate(resolutions):\n",
    "    ax = axs[k] if len(resolutions) > 1 else axs\n",
    "    colors = [\"red\", \"green\", \"purple\", \"orange\"]\n",
    "    nirt.simulate.plot_irf.plot_model_irf(ax, grid_all[c[i]], model_irf[i], num_bins, color=\"blue\", label=\"Original\")\n",
    "    for l, irf in enumerate(recorder.irf[resolution]):\n",
    "        irf[i].plot(ax, color=colors[l % len(colors)],\n",
    "                    label=\"iter {} Error {:.2f}\".format(\n",
    "                        l, nirt.error.error_norm(model_irf[i], irf[i])))\n",
    "    ax.set_title(\"IRF Resolution = {}\".format(resolution))\n",
    "    ax.grid(True)\n",
    "    ax.legend()"
   ]
  },
  {
   "cell_type": "markdown",
   "metadata": {},
   "source": [
    "Even though the initial guess is excellent, already for $n=4$ bins the IRF becomes non-smooth with kinks due to person $\\theta$'s moving from one bin to another. We have no regularization on the piecewise linear interpolant IRF. The kinks become worse as the resolution is refined.\n",
    "\n",
    "Adding several Gauss-Seidel relaxation sweeps on IRF bin values does not help; it smoothes out the profile for coarse resolutions but as the resolution is refined, this is not sufficient to smooth out the kinks. Also, it smears the profile, which is undesirable: some IFs should have a sharp transition from $0$ to $1$. Nonetheless, they don't have kinks."
   ]
  },
  {
   "cell_type": "code",
   "execution_count": null,
   "metadata": {},
   "outputs": [],
   "source": []
  }
 ],
 "metadata": {
  "hide_input": false,
  "kernelspec": {
   "display_name": "Python 3",
   "language": "python",
   "name": "python3"
  },
  "language_info": {
   "codemirror_mode": {
    "name": "ipython",
    "version": 3
   },
   "file_extension": ".py",
   "mimetype": "text/x-python",
   "name": "python",
   "nbconvert_exporter": "python",
   "pygments_lexer": "ipython3",
   "version": "3.7.6"
  }
 },
 "nbformat": 4,
 "nbformat_minor": 2
}
