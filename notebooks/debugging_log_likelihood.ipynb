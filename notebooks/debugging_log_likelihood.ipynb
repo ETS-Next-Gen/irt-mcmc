{
 "cells": [
  {
   "cell_type": "markdown",
   "metadata": {},
   "source": [
    "# Log Likelihood Debugging\n",
    "Getting weird values for log likelihood when we extend p to be 0 and 1 beyond the bins that have persons in them."
   ]
  },
  {
   "cell_type": "code",
   "execution_count": 212,
   "metadata": {},
   "outputs": [
    {
     "name": "stdout",
     "output_type": "stream",
     "text": [
      "The autoreload extension is already loaded. To reload it, use:\n",
      "  %reload_ext autoreload\n"
     ]
    }
   ],
   "source": [
    "# Simulate MCMC model data: pick the true parameter variables from the model's prior distribution.\n",
    "#import cluster.cntree.cntree as cntree\n",
    "import logging\n",
    "import matplotlib.pyplot as plt\n",
    "import nirt.simulate.simulate_data\n",
    "import nirt.solver\n",
    "import numpy as np\n",
    "\n",
    "%load_ext autoreload\n",
    "%autoreload 2\n",
    "\n",
    "for handler in logging.root.handlers[:]: logging.root.removeHandler(handler)\n",
    "logging.basicConfig(level=logging.INFO, format=\"%(levelname)-8s %(message)s\", datefmt=\"%a, %d %b %Y %H:%M:%S\")\n",
    "# For deterministic results.\n",
    "np.random.seed(0)"
   ]
  },
  {
   "cell_type": "code",
   "execution_count": 213,
   "metadata": {},
   "outputs": [
    {
     "name": "stdout",
     "output_type": "stream",
     "text": [
      "theta range -7.273709788664184 7.288521196125131\n",
      "0 -5.002544501493815 4.2940338707593115\n",
      "1 -7.273709788664184 7.288521196125131\n",
      "2 -5.173123729322939 5.621227593839513\n",
      "3 -4.907395027940306 5.164623324147937\n",
      "4 -4.087319286733457 3.8515093869423502\n",
      "[[-2.18549686 -2.82706208 -2.30827219 -2.09501407 -1.81065374]\n",
      " [ 2.10162476  2.80448738  2.25257617  2.10945136  1.77044532]]\n",
      "Dimension of item [0 2 1 4 4 0 0 0 1 1 1 3 2 2 3 3 4 2 3 4]\n"
     ]
    }
   ],
   "source": [
    "# Generate synthetic data.\n",
    "# Number of persons.\n",
    "P = 10000\n",
    "# Number of items.\n",
    "I = 20\n",
    "# Number of latent ability dimensions (sub-scales).\n",
    "C = 5\n",
    "# Using 2-PL model with fixed discrimination and no asymptote for all items.\n",
    "x, theta, b, c = \\\n",
    "    nirt.simulate.simulate_data.generate_simulated_data(P, I, C, asym=0, discrimination=1)\n",
    "print(\"theta range {} {}\".format(min(theta.flatten()), max(theta.flatten())))\n",
    "for d in range(C):\n",
    "    print(d, min(theta[:,d]), max(theta[:,d]))\n",
    "print(np.percentile(theta, [5, 95], axis=0))\n",
    "print(\"Dimension of item {}\".format(c))"
   ]
  },
  {
   "cell_type": "code",
   "execution_count": 214,
   "metadata": {},
   "outputs": [],
   "source": [
    "def initial_guess(x, c):\n",
    "    C = max(c) - 1\n",
    "    I = x.shape[1]\n",
    "    \"\"\"Returns the initial guess for theta.\"\"\"\n",
    "    # Person means for each subscale (dimension): P x C\n",
    "    x_of_dim = np.array([np.mean(x[:, np.where(c == d)[0]], axis=1) for d in range(C)]).transpose()\n",
    "    # Population mean and stddev of each dimension.\n",
    "    population_mean = x_of_dim.mean(axis=0)\n",
    "    population_std = x_of_dim.std(axis=0)\n",
    "    return (x_of_dim - population_mean) / population_std"
   ]
  },
  {
   "cell_type": "code",
   "execution_count": 215,
   "metadata": {},
   "outputs": [],
   "source": [
    "# Build an IRF from some reasonable theta values.\n",
    "num_bins = 10\n",
    "sample_size = 20\n",
    "theta = initial_guess(x, c)\n",
    "bins = nirt.irf.sample_bins(theta[:, 0], num_bins, sample_size)\n",
    "irf = nirt.irf.ItemResponseFunction.merge([nirt.irf.histogram(x[:, i], bins) for i in range(I)])"
   ]
  },
  {
   "cell_type": "code",
   "execution_count": 216,
   "metadata": {},
   "outputs": [
    {
     "name": "stdout",
     "output_type": "stream",
     "text": [
      "Dimension 0, items [0 5 6 7]\n"
     ]
    },
    {
     "data": {
      "text/plain": [
       "[<matplotlib.lines.Line2D at 0x125649910>]"
      ]
     },
     "execution_count": 216,
     "metadata": {},
     "output_type": "execute_result"
    },
    {
     "data": {
      "image/png": "[encoded data removed]",
      "text/plain": [
       "<Figure size 432x288 with 1 Axes>"
      ]
     },
     "metadata": {
      "needs_background": "light"
     },
     "output_type": "display_data"
    }
   ],
   "source": [
    "likelihood = nirt.likelihood.Likelihood(x, c, irf)\n",
    "\n",
    "p = 1\n",
    "d = 0 # np.random.choice(np.arange(C), 1)[0]\n",
    "items = np.where(c == d)[0]\n",
    "print(\"Dimension {}, items {}\".format(d, items))\n",
    "# See that we can find this minimum with a root finder.\n",
    "t = likelihood.parameter_mle(p, d)\n",
    "\n",
    "grid = np.linspace(-nirt.irf.M, nirt.irf.M, 10 * num_bins + 1)\n",
    "active = np.tile([p, d], (grid.size, 1))\n",
    "likelihood_values = likelihood.log_likelihood_term(grid, active=(active[:, 0], active[:, 1]))\n",
    "mle = likelihood.log_likelihood_term(t, (np.array([p]), np.array([d])))[0]\n",
    "#print(list(grid))\n",
    "#print(list(likelihood_values))\n",
    "#print(t, mle)\n",
    "plt.plot(grid, likelihood_values)"
   ]
  },
  {
   "cell_type": "code",
   "execution_count": 217,
   "metadata": {},
   "outputs": [
    {
     "data": {
      "image/png": "[encoded data removed]",
      "text/plain": [
       "<Figure size 432x288 with 1 Axes>"
      ]
     },
     "metadata": {
      "needs_background": "light"
     },
     "output_type": "display_data"
    }
   ],
   "source": [
    "for i in items:\n",
    "    likelihood.plot_irf(i)"
   ]
  },
  {
   "cell_type": "code",
   "execution_count": 218,
   "metadata": {},
   "outputs": [
    {
     "name": "stdout",
     "output_type": "stream",
     "text": [
      "[ 0  0  0 20 20 20  0  0  0  0] [0.   0.   0.   0.   0.65 1.   0.   0.   0.   0.  ]\n",
      "[ 0  0  0 20 20 20  0  0  0  0] [0.   0.   0.   0.   0.45 0.9  0.   0.   0.   0.  ]\n",
      "[ 0  0  0 20 20 20  0  0  0  0] [0.   0.   0.   0.   0.3  0.85 0.   0.   0.   0.  ]\n",
      "[ 0  0  0 20 20 20  0  0  0  0] [0.   0.   0.   0.   0.25 0.9  0.   0.   0.   0.  ]\n"
     ]
    }
   ],
   "source": [
    "for i in items:\n",
    "    print(irf.count[i], irf.probability[i])"
   ]
  },
  {
   "cell_type": "code",
   "execution_count": 219,
   "metadata": {},
   "outputs": [
    {
     "data": {
      "text/plain": [
       "array([1, 0, 0, ..., 1, 1, 0])"
      ]
     },
     "execution_count": 219,
     "metadata": {},
     "output_type": "execute_result"
    }
   ],
   "source": [
    "x[:,12]"
   ]
  },
  {
   "cell_type": "code",
   "execution_count": 220,
   "metadata": {},
   "outputs": [
    {
     "data": {
      "text/plain": [
       "array([-1.09850683,  0.45086811, -1.09850683, ..., -0.32381936,\n",
       "        0.45086811,  1.22555557])"
      ]
     },
     "execution_count": 220,
     "metadata": {},
     "output_type": "execute_result"
    }
   ],
   "source": [
    "theta[:,1]"
   ]
  },
  {
   "cell_type": "code",
   "execution_count": 221,
   "metadata": {},
   "outputs": [
    {
     "data": {
      "text/plain": [
       "array([-9., -7., -5., -3., -1.,  1.,  3.,  5.,  7.,  9.])"
      ]
     },
     "execution_count": 221,
     "metadata": {},
     "output_type": "execute_result"
    }
   ],
   "source": [
    "nirt.irf.bin_centers(num_bins)"
   ]
  },
  {
   "cell_type": "code",
   "execution_count": 222,
   "metadata": {},
   "outputs": [
    {
     "data": {
      "text/plain": [
       "array([array([], dtype=int64), array([], dtype=int64),\n",
       "       array([], dtype=int64), array([], dtype=int64),\n",
       "       array([8113, 2476, 2949, 2861, 9438,  547, 8851, 2349, 4000, 8820, 6086,\n",
       "       8264, 1662, 1412, 7517, 2819, 9986, 5506,  144, 4314]),\n",
       "       array([3889, 6260, 4334, 1607, 5947, 4442,  309, 3887, 4099,  324,  290,\n",
       "       8249,  631, 7782, 4339, 8506, 7911, 2488,  137, 2883]),\n",
       "       array([], dtype=int64), array([], dtype=int64),\n",
       "       array([], dtype=int64), array([], dtype=int64)], dtype=object)"
      ]
     },
     "execution_count": 222,
     "metadata": {},
     "output_type": "execute_result"
    }
   ],
   "source": [
    "nirt.irf.sample_bins(theta[:,1], num_bins, sample_size)"
   ]
  },
  {
   "cell_type": "code",
   "execution_count": 223,
   "metadata": {},
   "outputs": [
    {
     "data": {
      "text/plain": [
       "(10000, 3)"
      ]
     },
     "execution_count": 223,
     "metadata": {},
     "output_type": "execute_result"
    }
   ],
   "source": [
    "theta.shape"
   ]
  },
  {
   "cell_type": "code",
   "execution_count": 224,
   "metadata": {},
   "outputs": [
    {
     "data": {
      "text/plain": [
       "-2.812655612056258"
      ]
     },
     "execution_count": 224,
     "metadata": {},
     "output_type": "execute_result"
    }
   ],
   "source": [
    "min(theta.flatten())"
   ]
  },
  {
   "cell_type": "code",
   "execution_count": 225,
   "metadata": {},
   "outputs": [
    {
     "data": {
      "text/plain": [
       "array([[ 0.01299801, -1.09850683,  1.29461101],\n",
       "       [ 0.01299801,  0.45086811, -0.66766411],\n",
       "       [ 0.01299801, -1.09850683, -0.66766411],\n",
       "       ...,\n",
       "       [ 0.95488255, -0.32381936,  1.29461101],\n",
       "       [ 0.01299801,  0.45086811,  0.31347345],\n",
       "       [-0.92888653,  1.22555557, -0.66766411]])"
      ]
     },
     "execution_count": 225,
     "metadata": {},
     "output_type": "execute_result"
    }
   ],
   "source": [
    "theta"
   ]
  },
  {
   "cell_type": "code",
   "execution_count": 226,
   "metadata": {},
   "outputs": [
    {
     "name": "stdout",
     "output_type": "stream",
     "text": [
      "0 -2.812655612056258 0.9548825462134598\n",
      "1 -1.873194297464026 1.2255555742713353\n",
      "2 -1.6488016671274097 2.2757485670348268\n"
     ]
    },
    {
     "ename": "IndexError",
     "evalue": "index 3 is out of bounds for axis 1 with size 3",
     "output_type": "error",
     "traceback": [
      "\u001b[0;31m---------------------------------------------------------------------------\u001b[0m",
      "\u001b[0;31mIndexError\u001b[0m                                Traceback (most recent call last)",
      "\u001b[0;32m<ipython-input-226-4e32ef12c445>\u001b[0m in \u001b[0;36m<module>\u001b[0;34m\u001b[0m\n\u001b[1;32m      1\u001b[0m \u001b[0;32mfor\u001b[0m \u001b[0md\u001b[0m \u001b[0;32min\u001b[0m \u001b[0mrange\u001b[0m\u001b[0;34m(\u001b[0m\u001b[0mC\u001b[0m\u001b[0;34m)\u001b[0m\u001b[0;34m:\u001b[0m\u001b[0;34m\u001b[0m\u001b[0;34m\u001b[0m\u001b[0m\n\u001b[0;32m----> 2\u001b[0;31m     \u001b[0mprint\u001b[0m\u001b[0;34m(\u001b[0m\u001b[0md\u001b[0m\u001b[0;34m,\u001b[0m \u001b[0mmin\u001b[0m\u001b[0;34m(\u001b[0m\u001b[0mtheta\u001b[0m\u001b[0;34m[\u001b[0m\u001b[0;34m:\u001b[0m\u001b[0;34m,\u001b[0m\u001b[0md\u001b[0m\u001b[0;34m]\u001b[0m\u001b[0;34m)\u001b[0m\u001b[0;34m,\u001b[0m \u001b[0mmax\u001b[0m\u001b[0;34m(\u001b[0m\u001b[0mtheta\u001b[0m\u001b[0;34m[\u001b[0m\u001b[0;34m:\u001b[0m\u001b[0;34m,\u001b[0m\u001b[0md\u001b[0m\u001b[0;34m]\u001b[0m\u001b[0;34m)\u001b[0m\u001b[0;34m)\u001b[0m\u001b[0;34m\u001b[0m\u001b[0;34m\u001b[0m\u001b[0m\n\u001b[0m",
      "\u001b[0;31mIndexError\u001b[0m: index 3 is out of bounds for axis 1 with size 3"
     ]
    }
   ],
   "source": [
    "for d in range(C):\n",
    "    print(d, min(theta[:,d]), max(theta[:,d]))"
   ]
  },
  {
   "cell_type": "code",
   "execution_count": null,
   "metadata": {},
   "outputs": [],
   "source": []
  }
 ],
 "metadata": {
  "kernelspec": {
   "display_name": "Python 3",
   "language": "python",
   "name": "python3"
  },
  "language_info": {
   "codemirror_mode": {
    "name": "ipython",
    "version": 3
   },
   "file_extension": ".py",
   "mimetype": "text/x-python",
   "name": "python",
   "nbconvert_exporter": "python",
   "pygments_lexer": "ipython3",
   "version": "3.7.6"
  }
 },
 "nbformat": 4,
 "nbformat_minor": 2
}
