{
 "cells": [
  {
   "cell_type": "markdown",
   "metadata": {},
   "source": [
    "# Simulated IRT Data Generation\n",
    "To test our non-parametric IRT model, we generate items with a parameteric form and sample student abilities from the standard prior distributions assumed in IRT literature, because these at least have some history/credibility as model data."
   ]
  },
  {
   "cell_type": "code",
   "execution_count": 23,
   "metadata": {},
   "outputs": [
    {
     "name": "stdout",
     "output_type": "stream",
     "text": [
      "The autoreload extension is already loaded. To reload it, use:\n",
      "  %reload_ext autoreload\n"
     ]
    }
   ],
   "source": [
    "# Simulate MCMC model data: pick the true parameter variables from the model's prior distribution.\n",
    "import cluster.cntree.cntree as cntree\n",
    "import logging\n",
    "import matplotlib.pyplot as plt\n",
    "import nirt.simulate.simulate_data\n",
    "import numpy as np\n",
    "import numpy.matlib\n",
    "import sklearn.cluster\n",
    "from numpy.linalg import norm, svd\n",
    "\n",
    "%load_ext autoreload\n",
    "%autoreload 2\n",
    "\n",
    "level = logging.INFO\n",
    "for handler in logging.root.handlers[:]: logging.root.removeHandler(handler)\n",
    "logging.basicConfig(level=level, format=\"%(levelname)-8s %(message)s\", datefmt=\"%a, %d %b %Y %H:%M:%S\")"
   ]
  },
  {
   "cell_type": "code",
   "execution_count": 225,
   "metadata": {},
   "outputs": [],
   "source": [
    "# Number of persons.\n",
    "P = 1000\n",
    "# Number of items.\n",
    "I = 20\n",
    "# Number of latent ability dimensions (sub-scales).\n",
    "C = 5\n",
    "# Fixed item asymptote (pi) as theta -> -\\infty = probability of guessing.\n",
    "asym = 0.25"
   ]
  },
  {
   "cell_type": "code",
   "execution_count": 226,
   "metadata": {},
   "outputs": [
    {
     "name": "stdout",
     "output_type": "stream",
     "text": [
      "[0.26 6.68 0.39 1.42 1.93]\n"
     ]
    }
   ],
   "source": [
    "X, theta = nirt.simulate.simulate_data.generate_simulated_data(P, I, C, asym)"
   ]
  },
  {
   "cell_type": "code",
   "execution_count": 227,
   "metadata": {},
   "outputs": [
    {
     "name": "stdout",
     "output_type": "stream",
     "text": [
      "(1000, 5)\n"
     ]
    },
    {
     "data": {
      "image/png": "[encoded data removed]",
      "text/plain": [
       "<Figure size 432x288 with 1 Axes>"
      ]
     },
     "metadata": {
      "needs_background": "light"
     },
     "output_type": "display_data"
    }
   ],
   "source": [
    "# Verify that student latent abilities are normally distributed. theta_c ~ N(0, invgamma(a_c,b_c))\n",
    "print(theta.shape)\n",
    "plt.plot(theta[:,0], theta[:,1], '.')\n",
    "plt.xlabel(r'$\\theta_0$')\n",
    "plt.ylabel(r'$\\theta_1$')\n",
    "plt.axis('equal')\n",
    "plt.show()"
   ]
  },
  {
   "cell_type": "markdown",
   "metadata": {},
   "source": [
    "## Item Clustering into Classes\n",
    "We use k-means with abs cosine distance (generally, over the set of persons that answered the two items between which the distance is measured; this only approximately satisfies the triangle inequality, but approximately enough for large $P$) to cluster items into $C$ dimensions."
   ]
  },
  {
   "cell_type": "code",
   "execution_count": 30,
   "metadata": {},
   "outputs": [
    {
     "name": "stdout",
     "output_type": "stream",
     "text": [
      "[2 4 2 3 2 3 2 4 1 2 1 1 0 0 1 1 1 1 0 1]\n"
     ]
    }
   ],
   "source": [
    "kmeans = sklearn.cluster.KMeans(n_clusters=C, random_state=0).fit(X.transpose())\n",
    "print(kmeans.labels_)\n",
    "#print(kmeans.cluster_centers_)\n",
    "#print(kmeans.n_iter_)\n",
    "#print(kmeans.inertia_)"
   ]
  },
  {
   "cell_type": "markdown",
   "metadata": {},
   "source": [
    "This shows that it's not easy to recover the $C$ classes from responses, since items that measure the same dimension are not necessarily highly correlated. For now, we will assume the apriori knownledge of $c$, the correspondence between items and dimensions. "
   ]
  },
  {
   "cell_type": "markdown",
   "metadata": {},
   "source": [
    "## Person Sampling"
   ]
  },
  {
   "cell_type": "code",
   "execution_count": 228,
   "metadata": {},
   "outputs": [
    {
     "name": "stderr",
     "output_type": "stream",
     "text": [
      "INFO     Level\tNbhrs\tSize\tcr\tmean_sz\tstd_sz\tTime\n",
      "INFO     1    \t2    \t2    \t500.00 \t500.0  \t11.0   \t0.04\n",
      "INFO     2    \t4    \t4    \t250.00 \t250.0  \t14.6   \t0.02\n",
      "INFO     3    \t7    \t8    \t125.00 \t125.0  \t14.3   \t0.01\n",
      "INFO     4    \t7    \t16   \t62.50  \t62.5   \t8.2    \t0.01\n",
      "INFO     5    \t7    \t32   \t31.25  \t31.2   \t5.5    \t0.01\n",
      "INFO     6    \t7    \t64   \t15.62  \t15.6   \t3.6    \t0.01\n",
      "INFO     7    \t7    \t128  \t7.81   \t7.8    \t2.3    \t0.02\n",
      "INFO     8    \t7    \t256  \t3.91   \t3.9    \t1.5    \t0.03\n",
      "INFO     9    \t7    \t470  \t2.13   \t2.1    \t0.9    \t0.05\n",
      "INFO     10   \t7    \t593  \t1.69   \t1.7    \t0.6    \t0.07\n",
      "INFO     11   \t7    \t613  \t1.63   \t1.6    \t0.5    \t0.06\n",
      "INFO     12   \t7    \t615  \t1.63   \t1.6    \t0.5    \t0.04\n",
      "INFO     Total\t\t\t\t\t\t0.39\n",
      "INFO     Trimming #neighbors to 5\n"
     ]
    }
   ],
   "source": [
    "clustering = nirt.simulate.simulate_data.cluster_persons(X, C)"
   ]
  },
  {
   "cell_type": "code",
   "execution_count": 204,
   "metadata": {},
   "outputs": [],
   "source": [
    "# Generate group-level scores by averaging over children groups.\n",
    "\n",
    "import scipy.sparse\n",
    "\n",
    "class FinestLevel: pass\n",
    "f = FinestLevel\n",
    "f._parent_of=child.label\n",
    "f.cluster_size=np.ones(X.shape[0])\n",
    "f.size=X.shape[0]\n",
    "levels = cntree.get_clustering_levels(clustering) + [f]"
   ]
  },
  {
   "cell_type": "code",
   "execution_count": 205,
   "metadata": {},
   "outputs": [
    {
     "name": "stdout",
     "output_type": "stream",
     "text": [
      "S 9\n",
      "(100, 20) (65, 100)\n",
      "(65, 20) (64, 65)\n",
      "(64, 20) (57, 64)\n",
      "(57, 20) (32, 57)\n",
      "(32, 20) (16, 32)\n",
      "(16, 20) (8, 16)\n",
      "(8, 20) (4, 8)\n",
      "(4, 20) (2, 4)\n",
      "(2, 20) (1, 2)\n",
      "0 (1, 2) (1, 20)\n",
      "1 (2, 4) (2, 20)\n",
      "2 (4, 8) (4, 20)\n",
      "3 (8, 16) (8, 20)\n",
      "4 (16, 32) (16, 20)\n",
      "5 (32, 57) (32, 20)\n",
      "6 (57, 64) (57, 20)\n",
      "7 (64, 65) (64, 20)\n",
      "8 (65, 100) (65, 20)\n",
      "9 - (100, 20)\n"
     ]
    }
   ],
   "source": [
    "S = len(levels)-1\n",
    "print('S', S)\n",
    "X_level = [None] * (S+1)\n",
    "R = [None] * (S+1)\n",
    "X_level[S] = X\n",
    "for s in range(S-1, -1, -1):\n",
    "    parent = levels[s]\n",
    "    child = levels[s+1]\n",
    "    membership = scipy.sparse.csr_matrix((np.ones(child.size), (child._parent_of, np.arange(child.size))), shape=(parent.size, child.size))\n",
    "    child_size = scipy.sparse.diags([child.cluster_size], [0])\n",
    "    parent_size = scipy.sparse.diags([1 / parent.cluster_size], [0])\n",
    "    R[s] = parent_size.dot(membership.dot(child_size))\n",
    "    print(X_level[s+1].shape, R[s].shape)\n",
    "    X_level[s] = R[s].dot(X_level[s+1])\n",
    "    #print(R.sum(axis=1))\n",
    "    \n",
    "for s in range(S+1):\n",
    "    print(s, R[s].shape if R[s] is not None else '-', X_level[s].shape)"
   ]
  },
  {
   "cell_type": "code",
   "execution_count": 224,
   "metadata": {},
   "outputs": [
    {
     "name": "stdout",
     "output_type": "stream",
     "text": [
      "[28 25 20 27]\n",
      "[53 47]\n",
      "[0 0 1 1]\n",
      "[[0 1]\n",
      " [2 3]]\n",
      "[2 2]\n",
      "0\n",
      "[array([ 5,  9, 13, 19, 21, 27, 31, 35, 37, 39, 44, 47, 52, 54, 61, 62, 65, 74, 79, 80, 84, 85, 87, 93, 94, 95, 96, 97]), array([ 0,  2,  3,  4, 10, 17, 26, 29, 33, 36, 41, 45, 51, 53, 55, 60, 67, 69, 70, 73, 77, 78, 83, 86, 90])]\n",
      "[0, 2, 3, 4, 5, 7, 9, 10, 11, 13, 17, 19, 21, 26, 27, 29, 31, 33, 36, 37, 39, 44, 45, 47, 52, 53, 54, 55, 57, 60, 61, 62, 65, 67, 69, 70, 73, 74, 77, 78, 79, 80, 83, 84, 85, 86, 87, 90, 93, 94, 95, 96, 97]\n",
      "False\n",
      "1\n",
      "[array([ 1,  7, 14, 15, 16, 18, 20, 28, 30, 46, 56, 57, 64, 71, 72, 75, 82, 88, 89, 98]), array([ 6,  8, 11, 12, 22, 23, 24, 25, 32, 34, 38, 40, 42, 43, 48, 49, 50, 58, 59, 63, 66, 68, 76, 81, 91, 92, 99])]\n",
      "[1, 6, 8, 12, 14, 15, 16, 18, 20, 22, 23, 24, 25, 28, 30, 32, 34, 35, 38, 40, 41, 42, 43, 46, 48, 49, 50, 51, 56, 58, 59, 63, 64, 66, 68, 71, 72, 75, 76, 81, 82, 88, 89, 91, 92, 98, 99]\n",
      "False\n",
      "[  0  53 100]\n",
      "[ 0 31 33 80 36 37 79 39 78 77 44 45 74 47 73 70 52 53 54 55 69 57 67 60 61 62 83 29 65 27 97  2  3  4  5 96  7 95  9 10 11 94 13 84 93 21 26 85 17 86 90 19 87 66 68 81 92 91 89 71 72 76 75 88 82 49 63  1  6  8 12 14 15 16 18 20 22 23 24 25 28 30 32 34 59 58 56 51 50 98 64 48 43 42 41 40 38 35 46 99]\n"
     ]
    }
   ],
   "source": [
    "from functools import reduce\n",
    "\n",
    "np.set_printoptions(linewidth=1000, threshold=10000, precision=2)\n",
    "s = 1\n",
    "parent = levels[s]\n",
    "child = levels[s+1]\n",
    "membership = scipy.sparse.csr_matrix((np.ones(child.size), (child._parent_of, np.arange(child.size))), shape=(parent.size, child.size))\n",
    "child_size = scipy.sparse.diags([child.cluster_size], [0])\n",
    "parent_size = scipy.sparse.diags([1 / parent.cluster_size], [0])\n",
    "R[s] = parent_size.dot(membership.dot(child_size))\n",
    "\n",
    "print(child.cluster_size)\n",
    "print(parent.cluster_size)\n",
    "print(child._parent_of)\n",
    "print(parent._children_of)\n",
    "print(parent._num_children)\n",
    "for k in range(parent.size):\n",
    "    print(k)\n",
    "    a = sorted(reduce(np.union1d, (child.cluster_members(c) for c in parent._children_of[k])))\n",
    "    b = sorted(parent.cluster_members(k))\n",
    "    print([np.sort(child.cluster_members(c)) for c in parent._children_of[k]])\n",
    "    print(b)\n",
    "    print(a == b)\n",
    "#print(membership.todense())\n",
    "print(parent._start)\n",
    "print(parent._point_index)"
   ]
  },
  {
   "cell_type": "code",
   "execution_count": 137,
   "metadata": {},
   "outputs": [
    {
     "data": {
      "text/plain": [
       "array([[0.36, 0.33, 0.5 , 0.48, 0.51, 0.45, 0.46, 0.44, 0.52, 0.63, 0.66, 0.75, 0.69, 0.66, 0.87,\n",
       "        0.88, 0.83, 0.88, 0.84, 0.9 ]])"
      ]
     },
     "execution_count": 137,
     "metadata": {},
     "output_type": "execute_result"
    }
   ],
   "source": [
    "X_level[0]"
   ]
  },
  {
   "cell_type": "code",
   "execution_count": null,
   "metadata": {},
   "outputs": [],
   "source": [
    "import pandas as pd\n",
    "pd.options.display.width = 1000\n",
    "pd.options.display.precision = 3\n",
    "j = np.where(c == 0)[0]\n",
    "k = np.where(c == 1)[0]\n",
    "i = np.concatenate((j, k))\n",
    "print(j)\n",
    "print(k)\n",
    "xi = pd.DataFrame(X[:,i])\n",
    "xi.corr()"
   ]
  },
  {
   "cell_type": "code",
   "execution_count": null,
   "metadata": {},
   "outputs": [],
   "source": [
    "tree = cntree.CNTree(max_levels=20, max_cluster_radius=max_cluster_radius, max_cluster_size=max_cluster_size, metric=\"abs_cos2\", debug=1)\n",
    "clustering = tree.cluster(y_normalized)\n"
   ]
  },
  {
   "cell_type": "code",
   "execution_count": null,
   "metadata": {},
   "outputs": [],
   "source": [
    "u, s, vh = svd(X)"
   ]
  },
  {
   "cell_type": "code",
   "execution_count": null,
   "metadata": {},
   "outputs": [],
   "source": [
    "plt.plot(s, 'bo-')"
   ]
  },
  {
   "cell_type": "code",
   "execution_count": null,
   "metadata": {},
   "outputs": [],
   "source": [
    "print(vh.shape)\n",
    "for r in range(1, X.shape[1] + 1, 5):\n",
    "    P = vh[:r].transpose()\n",
    "    print(r, norm(X - (X.dot(P)).dot(P.transpose())) / norm(X))\n",
    "\n",
    "r = 5\n",
    "P = vh[:r].transpose()\n",
    "t = X.dot(P)\n",
    "X_reconstructed = t.dot(P.transpose())\n",
    "print(X.shape, P.shape, XC.shape)\n",
    "print(P[:3])\n",
    "print(t[:4])\n",
    "print(X[3:])\n",
    "print(X_reconstructed[3:])"
   ]
  },
  {
   "cell_type": "markdown",
   "metadata": {},
   "source": [
    "# Initial Guess for $\\theta$"
   ]
  },
  {
   "cell_type": "code",
   "execution_count": null,
   "metadata": {},
   "outputs": [],
   "source": [
    "# Initial guess for theta_p^c: fraction of correct responses of person p to items measuring\n",
    "# sub-scale c.\n",
    "theta_init = np.array([np.mean(X[:, np.where(c == d)[0]], axis=1) for d in range(C)])"
   ]
  },
  {
   "cell_type": "code",
   "execution_count": null,
   "metadata": {},
   "outputs": [],
   "source": [
    "np.mean(t, axis=0)"
   ]
  },
  {
   "cell_type": "code",
   "execution_count": null,
   "metadata": {},
   "outputs": [],
   "source": [
    "np.mean(X, axis=0)"
   ]
  },
  {
   "cell_type": "code",
   "execution_count": null,
   "metadata": {},
   "outputs": [],
   "source": []
  }
 ],
 "metadata": {
  "kernelspec": {
   "display_name": "Python 3",
   "language": "python",
   "name": "python3"
  },
  "language_info": {
   "codemirror_mode": {
    "name": "ipython",
    "version": 3
   },
   "file_extension": ".py",
   "mimetype": "text/x-python",
   "name": "python",
   "nbconvert_exporter": "python",
   "pygments_lexer": "ipython3",
   "version": "3.7.6"
  }
 },
 "nbformat": 4,
 "nbformat_minor": 2
}
