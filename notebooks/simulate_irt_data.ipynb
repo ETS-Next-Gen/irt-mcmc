{
 "cells": [
  {
   "cell_type": "markdown",
   "metadata": {},
   "source": [
    "# Generate Simulated IRT Data\n",
    "To test our non-parametric IRT model, we generate items with a parameteric form and sample student abilities from the standard prior distributions assumed in IRT literature, because these at least have some history/credibility as model data."
   ]
  },
  {
   "cell_type": "code",
   "execution_count": 1,
   "metadata": {},
   "outputs": [],
   "source": [
    "# Simulate MCMC model data: pick the true parameter variables from the model's prior distribution.\n",
    "import numpy as np\n",
    "import numpy.matlib\n",
    "import matplotlib.pyplot as plt\n",
    "from scipy.stats import invgamma\n",
    "from numpy.linalg import norm, svd"
   ]
  },
  {
   "cell_type": "code",
   "execution_count": 3,
   "metadata": {},
   "outputs": [],
   "source": [
    "# Number of persons.\n",
    "P = 100\n",
    "# Number of items.\n",
    "I = 40\n",
    "# Number of latent ability dimensions (sub-scales).\n",
    "C = 5\n",
    "# Fixed item asymptote (pi) as theta -> -\\infty = probability of guessing.\n",
    "asym = 0.25"
   ]
  },
  {
   "cell_type": "code",
   "execution_count": 10,
   "metadata": {},
   "outputs": [
    {
     "name": "stdout",
     "output_type": "stream",
     "text": [
      "[0.61173947 0.34316576 0.75411191 5.28585277 0.26578075]\n"
     ]
    }
   ],
   "source": [
    "# Generate latent ability distribution variances.\n",
    "alpha_theta, beta_theta = 1, 1\n",
    "rv = invgamma(a=alpha_theta, scale=beta_theta)\n",
    "v = rv.rvs(C)\n",
    "print(v)"
   ]
  },
  {
   "cell_type": "code",
   "execution_count": 11,
   "metadata": {},
   "outputs": [
    {
     "name": "stdout",
     "output_type": "stream",
     "text": [
      "(100, 5)\n"
     ]
    },
    {
     "data": {
      "image/png": "[encoded data removed]",
      "text/plain": [
       "<Figure size 432x288 with 1 Axes>"
      ]
     },
     "metadata": {
      "needs_background": "light"
     },
     "output_type": "display_data"
    }
   ],
   "source": [
    "# Generate normally distributed student latent abilities. theta_c ~ N(0, invgamma(a_c,b_c))\n",
    "cov = np.diag(v)\n",
    "theta = np.random.multivariate_normal(np.zeros((C,)), cov, P)\n",
    "print(theta.shape)\n",
    "plt.plot(theta[:,0], theta[:,1], '.')\n",
    "plt.xlabel(r'$\\theta_0$')\n",
    "plt.ylabel(r'$\\theta_1$')\n",
    "plt.axis('equal')\n",
    "plt.show()"
   ]
  },
  {
   "cell_type": "code",
   "execution_count": 13,
   "metadata": {},
   "outputs": [
    {
     "name": "stdout",
     "output_type": "stream",
     "text": [
      "[0.50512739 0.5581451  1.38586048 1.45535658 0.77604874 0.67253543\n",
      " 1.28355773 1.36330634 1.28210459 1.35620821 1.21313728 0.80045828\n",
      " 0.6467314  0.56458521 0.65277376 0.93239422 0.90987003 1.4684295\n",
      " 1.28732167 1.08605611 0.88063827 1.26190589 1.26672692 1.09980719\n",
      " 1.12854998 0.60045068 1.11268355 1.26219837 0.50742638 1.06271488\n",
      " 1.17201435 0.86281421 1.39753192 1.03362813 1.27539644 0.74820063\n",
      " 1.49707017 0.64633954 0.71804153 0.50545282]\n",
      "[-3.         -2.84615385 -2.69230769 -2.53846154 -2.38461538 -2.23076923\n",
      " -2.07692308 -1.92307692 -1.76923077 -1.61538462 -1.46153846 -1.30769231\n",
      " -1.15384615 -1.         -0.84615385 -0.69230769 -0.53846154 -0.38461538\n",
      " -0.23076923 -0.07692308  0.07692308  0.23076923  0.38461538  0.53846154\n",
      "  0.69230769  0.84615385  1.          1.15384615  1.30769231  1.46153846\n",
      "  1.61538462  1.76923077  1.92307692  2.07692308  2.23076923  2.38461538\n",
      "  2.53846154  2.69230769  2.84615385  3.        ]\n",
      "[4 2 4 4 3 3 0 3 1 0 0 0 2 1 3 0 2 1 0 3 4 2 2 3 1 3 4 3 1 2 2 4 1 0 4 4 1\n",
      " 0 1 2]\n"
     ]
    }
   ],
   "source": [
    "# Generate item difficulty parameters.\n",
    "# Discrimination is uniform[0.5, 1.5].\n",
    "a = np.random.random(size=(I,)) + 0.5\n",
    "# Difficulty is equally spaced from -3 to 3.\n",
    "b = np.linspace(-3, 3, num=I)\n",
    "# Item i measures sub-scale c[i]. Select about the same number of items per subscale,\n",
    "# then randomly permute the item order.\n",
    "c = np.random.permutation(np.matlib.repmat(np.arange(C, dtype=int), int(np.ceil(I/C)), 1).ravel()[:I])\n",
    "print(a)\n",
    "print(b)\n",
    "print(c)"
   ]
  },
  {
   "cell_type": "code",
   "execution_count": 14,
   "metadata": {},
   "outputs": [],
   "source": [
    "# Generate item responses (the observed data).\n",
    "t = np.exp(-a*(theta[:,c] - b))\n",
    "p_correct = asym + (1-asym)*(t/(1+t))\n",
    "X = np.random.binomial(1, p=p_correct)"
   ]
  },
  {
   "cell_type": "code",
   "execution_count": 15,
   "metadata": {},
   "outputs": [],
   "source": [
    "# Initial guess for theta_p^c: fraction of correct responses of person p to items measuring\n",
    "# sub-scale c.\n",
    "theta_init = np.array([np.mean(X[:, np.where(c == d)[0]], axis=1) for d in range(C)])"
   ]
  },
  {
   "cell_type": "code",
   "execution_count": 85,
   "metadata": {},
   "outputs": [],
   "source": [
    "u, s, vh = svd(X)"
   ]
  },
  {
   "cell_type": "code",
   "execution_count": 86,
   "metadata": {},
   "outputs": [
    {
     "data": {
      "text/plain": [
       "[<matplotlib.lines.Line2D at 0x1a26a98b90>]"
      ]
     },
     "execution_count": 86,
     "metadata": {},
     "output_type": "execute_result"
    },
    {
     "data": {
      "image/png": "[encoded data removed]",
      "text/plain": [
       "<Figure size 432x288 with 1 Axes>"
      ]
     },
     "metadata": {
      "needs_background": "light"
     },
     "output_type": "display_data"
    }
   ],
   "source": [
    "plt.plot(s, 'bo-')"
   ]
  },
  {
   "cell_type": "code",
   "execution_count": 87,
   "metadata": {},
   "outputs": [
    {
     "name": "stdout",
     "output_type": "stream",
     "text": [
      "(40, 40)\n",
      "1 0.5494971087541795\n",
      "6 0.4535083819419866\n",
      "11 0.3755071368539594\n",
      "16 0.3059760110634788\n",
      "21 0.24164304353034258\n",
      "26 0.18028646342539847\n",
      "31 0.11694505385737489\n",
      "36 0.060776845924931155\n",
      "(100, 40) (40, 5) (100, 5)\n",
      "[[-0.05541413  0.01100972 -0.23793286  0.09989172 -0.0440485 ]\n",
      " [-0.05449058  0.00955957 -0.23901792  0.06816821  0.11880001]\n",
      " [-0.06742539  0.06901474  0.30015364  0.01398892 -0.13412027]]\n",
      "[[-4.37826428  0.37317813 -0.48935847 -0.44185103 -0.15059675]\n",
      " [-4.06671811 -1.20736785  0.3477081  -0.69718694 -0.39422779]\n",
      " [-4.47540691  0.59616094  0.11880829 -0.22837614  0.13819566]\n",
      " [-3.68499763  0.72820866 -0.92378656 -0.28777624  0.01462911]]\n",
      "[[1 0 0 ... 1 0 0]\n",
      " [1 0 1 ... 1 0 1]\n",
      " [1 1 0 ... 1 1 1]\n",
      " ...\n",
      " [0 1 0 ... 1 1 1]\n",
      " [0 0 0 ... 1 1 1]\n",
      " [0 0 0 ... 1 1 1]]\n",
      "[[0.40262663 0.41068132 0.01545389 ... 0.93909368 0.73298508 0.79825325]\n",
      " [0.26806201 0.16611745 0.44245886 ... 0.78910164 0.58887043 0.77889447]\n",
      " [0.6290119  0.52509516 0.05886047 ... 1.19370367 0.87532406 1.03579425]\n",
      " ...\n",
      " [0.28111866 0.37950437 0.11847603 ... 0.93603958 0.97734569 0.99558823]\n",
      " [0.33625531 0.15571468 0.28059343 ... 0.8088053  0.96197007 0.9560846 ]\n",
      " [0.27422191 0.40432172 0.05907289 ... 0.86519732 0.67038066 0.75684557]]\n"
     ]
    }
   ],
   "source": [
    "print(vh.shape)\n",
    "for r in range(1, X.shape[1] + 1, 5):\n",
    "    P = vh[:r].transpose()\n",
    "    print(r, norm(X - (X.dot(P)).dot(P.transpose())) / norm(X))\n",
    "\n",
    "r = 5\n",
    "P = vh[:r].transpose()\n",
    "t = X.dot(P)\n",
    "X_reconstructed = t.dot(P.transpose())\n",
    "print(X.shape, P.shape, XC.shape)\n",
    "print(P[:3])\n",
    "print(t[:4])\n",
    "print(X[3:])\n",
    "print(X_reconstructed[3:])"
   ]
  },
  {
   "cell_type": "code",
   "execution_count": 88,
   "metadata": {},
   "outputs": [
    {
     "data": {
      "text/plain": [
       "array([-4.05228696e+00,  2.02138345e-02, -1.31263562e-02,  4.56183901e-03,\n",
       "       -2.08968161e-04])"
      ]
     },
     "execution_count": 88,
     "metadata": {},
     "output_type": "execute_result"
    }
   ],
   "source": [
    "np.mean(t, axis=0)"
   ]
  },
  {
   "cell_type": "code",
   "execution_count": 90,
   "metadata": {},
   "outputs": [
    {
     "data": {
      "text/plain": [
       "array([0.23, 0.22, 0.27, 0.31, 0.19, 0.29, 0.31, 0.37, 0.34, 0.5 , 0.44,\n",
       "       0.46, 0.37, 0.41, 0.59, 0.48, 0.55, 0.47, 0.57, 0.61, 0.55, 0.65,\n",
       "       0.59, 0.71, 0.72, 0.66, 0.81, 0.8 , 0.83, 0.75, 0.77, 0.9 , 0.93,\n",
       "       0.93, 0.95, 0.9 , 0.84, 0.94, 0.83, 0.85])"
      ]
     },
     "execution_count": 90,
     "metadata": {},
     "output_type": "execute_result"
    }
   ],
   "source": [
    "np.mean(X, axis=0)"
   ]
  },
  {
   "cell_type": "code",
   "execution_count": null,
   "metadata": {},
   "outputs": [],
   "source": []
  }
 ],
 "metadata": {
  "kernelspec": {
   "display_name": "Python 3",
   "language": "python",
   "name": "python3"
  },
  "language_info": {
   "codemirror_mode": {
    "name": "ipython",
    "version": 3
   },
   "file_extension": ".py",
   "mimetype": "text/x-python",
   "name": "python",
   "nbconvert_exporter": "python",
   "pygments_lexer": "ipython3",
   "version": "3.7.6"
  }
 },
 "nbformat": 4,
 "nbformat_minor": 2
}
