{
 "cells": [
  {
   "cell_type": "markdown",
   "metadata": {},
   "source": [
    "# Simulated IRT Data Generation\n",
    "To test our non-parametric IRT model, we generate items with a parameteric form and sample student abilities from the standard prior distributions assumed in IRT literature, because these at least have some history/credibility as model data."
   ]
  },
  {
   "cell_type": "code",
   "execution_count": 4,
   "metadata": {},
   "outputs": [
    {
     "name": "stdout",
     "output_type": "stream",
     "text": [
      "The autoreload extension is already loaded. To reload it, use:\n",
      "  %reload_ext autoreload\n"
     ]
    }
   ],
   "source": [
    "# Simulate MCMC model data: pick the true parameter variables from the model's prior distribution.\n",
    "#import cluster.cntree.cntree as cntree\n",
    "import collections\n",
    "import logging\n",
    "import matplotlib.pyplot as plt\n",
    "import numpy as np\n",
    "import tc.simulate_data\n",
    "\n",
    "%load_ext autoreload\n",
    "%autoreload 2\n",
    "\n",
    "level = logging.INFO\n",
    "for handler in logging.root.handlers[:]: logging.root.removeHandler(handler)\n",
    "logging.basicConfig(level=level, format=\"%(levelname)-8s %(message)s\", datefmt=\"%a, %d %b %Y %H:%M:%S\")\n",
    "\n",
    "# Deterministic results.\n",
    "np.random.seed(0)"
   ]
  },
  {
   "cell_type": "code",
   "execution_count": 5,
   "metadata": {},
   "outputs": [],
   "source": [
    "# Number of persons.\n",
    "P = 1000\n",
    "# Number of items.\n",
    "I = 20\n",
    "# Number of latent ability dimensions (sub-scales).\n",
    "C = 1\n",
    "# Fixed item asymptote (pi) as theta -> -\\infty = probability of guessing.\n",
    "asym = 0 # 0.25\n",
    "# Constant a for all items.\n",
    "discrimination = 1"
   ]
  },
  {
   "cell_type": "code",
   "execution_count": 7,
   "metadata": {},
   "outputs": [],
   "source": [
    "X, theta, b, c = tc.simulate_data.generate_dichotomous_responses(P, I, C, asymptote=asym, discrimination=discrimination)"
   ]
  },
  {
   "cell_type": "code",
   "execution_count": 12,
   "metadata": {},
   "outputs": [
    {
     "name": "stdout",
     "output_type": "stream",
     "text": [
      "(1000, 1)\n"
     ]
    },
    {
     "data": {
      "image/png": "[encoded data removed]",
      "text/plain": [
       "<Figure size 432x288 with 1 Axes>"
      ]
     },
     "metadata": {
      "needs_background": "light"
     },
     "output_type": "display_data"
    }
   ],
   "source": [
    "# Verify that student latent abilities are normally distributed. theta_c ~ N(0, invgamma(a_c,b_c))\n",
    "plt.hist(theta[:, 0], 50, density=True)\n",
    "plt.xlabel(r'$\\theta$')\n",
    "plt.ylabel('Frequency')\n",
    "plt.title('Latent Ability PDF')\n",
    "plt.show()"
   ]
  },
  {
   "cell_type": "code",
   "execution_count": 19,
   "metadata": {},
   "outputs": [],
   "source": [
    "# Add a collusion group.\n",
    "leaked_items = np.random.choice(I, int(0.25 * I), replace=False)\n",
    "cheaters = np.random.choice(P, 40, replace=False)"
   ]
  },
  {
   "cell_type": "code",
   "execution_count": 36,
   "metadata": {},
   "outputs": [],
   "source": [
    "X[cheaters[:, None], leaked_items] = np.random.binomial(1, p=0.95, size=(cheaters.size, leaked_items.size))"
   ]
  },
  {
   "cell_type": "code",
   "execution_count": 43,
   "metadata": {},
   "outputs": [
    {
     "data": {
      "text/plain": [
       "array([[16.40545855,  0.52221775,  0.48356883, ...,  0.42489075,\n",
       "         0.73882512,  0.91398924],\n",
       "       [ 0.68522677,  1.20748204,  0.64737313, ...,  0.43149649,\n",
       "         0.87311094,  0.89930242],\n",
       "       [ 0.26770999,  0.48969478,  1.81693899, ...,  1.97365301,\n",
       "         3.19755824,  4.68795333],\n",
       "       ...,\n",
       "       [ 1.74157489,  1.82900894,  1.13116398, ...,  4.82071989,\n",
       "         1.24585469,  0.16715355],\n",
       "       [ 2.22188211,  0.8262981 ,  3.49518911, ...,  2.64817637,\n",
       "         1.96613373,  0.52838316],\n",
       "       [ 2.64598396,  0.14140035,  1.19681962, ...,  0.62783681,\n",
       "         0.36103299,  0.21890772]])"
      ]
     },
     "execution_count": 43,
     "metadata": {},
     "output_type": "execute_result"
    }
   ],
   "source": []
  },
  {
   "cell_type": "code",
   "execution_count": null,
   "metadata": {},
   "outputs": [],
   "source": []
  }
 ],
 "metadata": {
  "kernelspec": {
   "display_name": "Python 3",
   "language": "python",
   "name": "python3"
  },
  "language_info": {
   "codemirror_mode": {
    "name": "ipython",
    "version": 3
   },
   "file_extension": ".py",
   "mimetype": "text/x-python",
   "name": "python",
   "nbconvert_exporter": "python",
   "pygments_lexer": "ipython3",
   "version": "3.7.6"
  }
 },
 "nbformat": 4,
 "nbformat_minor": 2
}
