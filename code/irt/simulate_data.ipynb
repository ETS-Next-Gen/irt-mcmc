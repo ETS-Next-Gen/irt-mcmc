{
 "cells": [
  {
   "cell_type": "code",
   "execution_count": 112,
   "metadata": {},
   "outputs": [],
   "source": [
    "# Simulate MCMC model data: pick the true parameter variables from the model's prior distribution.\n",
    "import numpy as np\n",
    "import numpy.matlib\n",
    "import matplotlib.pyplot as plt\n",
    "from scipy.stats import invgamma\n",
    "from numpy.linalg import norm"
   ]
  },
  {
   "cell_type": "code",
   "execution_count": 132,
   "metadata": {},
   "outputs": [],
   "source": [
    "# Number of persons.\n",
    "P = 100\n",
    "# Number of items.\n",
    "I = 12\n",
    "# Number of latent ability dimensions (sub-scales).\n",
    "C = 5"
   ]
  },
  {
   "cell_type": "code",
   "execution_count": 133,
   "metadata": {},
   "outputs": [
    {
     "name": "stdout",
     "output_type": "stream",
     "text": [
      "[3.46955827 1.57407928 0.22400557 0.51477035 3.44689261]\n"
     ]
    }
   ],
   "source": [
    "# Generate latent ability distribution variances.\n",
    "alpha_theta, beta_theta = 1, 1\n",
    "rv = invgamma(a=alpha_theta, scale=beta_theta)\n",
    "v = rv.rvs(C)\n",
    "print(v)"
   ]
  },
  {
   "cell_type": "code",
   "execution_count": 134,
   "metadata": {},
   "outputs": [
    {
     "name": "stdout",
     "output_type": "stream",
     "text": [
      "(100, 5)\n"
     ]
    },
    {
     "data": {
      "image/png": "[encoded data removed]",
      "text/plain": [
       "<Figure size 432x288 with 1 Axes>"
      ]
     },
     "metadata": {
      "needs_background": "light"
     },
     "output_type": "display_data"
    }
   ],
   "source": [
    "# Generate normally distributed student latent abilities.\n",
    "cov = np.diag(v)\n",
    "theta = np.random.multivariate_normal(np.zeros((C,)), cov, P)\n",
    "print(theta.shape)\n",
    "plt.plot(theta[:,0], theta[:,1], '.')\n",
    "plt.axis('equal')\n",
    "plt.show()"
   ]
  },
  {
   "cell_type": "code",
   "execution_count": 140,
   "metadata": {},
   "outputs": [
    {
     "name": "stdout",
     "output_type": "stream",
     "text": [
      "[0.98889577 1.35162604 0.92720705 0.9484591  1.27117454 1.31482635\n",
      " 0.9256064  0.72921374 1.21007114 0.55372376 0.80982011 1.14681717]\n",
      "[-3.         -2.45454545 -1.90909091 -1.36363636 -0.81818182 -0.27272727\n",
      "  0.27272727  0.81818182  1.36363636  1.90909091  2.45454545  3.        ]\n",
      "[0 4 0 2 2 0 0 3 1 3 4 2]\n"
     ]
    }
   ],
   "source": [
    "# Generate item difficulty parameters.\n",
    "# Discrimination is uniform[0.5, 1.5].\n",
    "a = np.random.random(size=(I,)) + 0.5\n",
    "# Difficulty is equally spaced from -3 to 3.\n",
    "b = np.linspace(-3, 3, num=I)\n",
    "# Item i measures sub-scale c[i]. Select about the same number of items per subscale,\n",
    "# then randomly permute the item order.\n",
    "c = np.random.permutation(np.matlib.repmat(np.arange(C, dtype=int), int(np.ceil(I/C)), 1).ravel()[:I])\n",
    "# Note: some sub-scales may have no items.\n",
    "c = np.random.randint(low=0, high=C, size=(I,))\n",
    "# Asymptote pi is fixed.\n",
    "asym = 0.2\n",
    "print(a)\n",
    "print(b)\n",
    "print(c)"
   ]
  },
  {
   "cell_type": "code",
   "execution_count": 141,
   "metadata": {},
   "outputs": [],
   "source": [
    "# Generate item responses (the observed data).\n",
    "t = np.exp(-a*(theta[:,c] - b))\n",
    "p_correct = asym + (1-asym)*(t/(1+t))\n",
    "X = np.random.binomial(1, p=p_correct)"
   ]
  }
 ],
 "metadata": {
  "kernelspec": {
   "display_name": "Python 3",
   "language": "python",
   "name": "python3"
  },
  "language_info": {
   "codemirror_mode": {
    "name": "ipython",
    "version": 3
   },
   "file_extension": ".py",
   "mimetype": "text/x-python",
   "name": "python",
   "nbconvert_exporter": "python",
   "pygments_lexer": "ipython3",
   "version": "3.7.5"
  }
 },
 "nbformat": 4,
 "nbformat_minor": 2
}
